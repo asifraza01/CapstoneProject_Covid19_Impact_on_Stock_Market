{
 "cells": [
  {
   "cell_type": "code",
   "execution_count": null,
   "metadata": {
    "editable": true
   },
   "outputs": [],
   "source": []
  },
  {
   "cell_type": "code",
   "execution_count": null,
   "metadata": {
    "editable": true
   },
   "outputs": [],
   "source": []
  },
  {
   "cell_type": "markdown",
   "metadata": {
    "editable": true
   },
   "source": [
    "# Project Title\n",
    "### Data Engineering Capstone Project\n",
    "\n",
    "#### Project Summary\n",
    "--describe your project at a high level--\n",
    "\n",
    "The project follows the follow steps:\n",
    "* Step 1: Scope the Project and Gather Data\n",
    "* Step 2: Explore and Assess the Data\n",
    "* Step 3: Define the Data Model\n",
    "* Step 4: Run ETL to Model the Data\n",
    "* Step 5: Complete Project Write Up"
   ]
  },
  {
   "cell_type": "code",
   "execution_count": 2,
   "metadata": {
    "editable": true
   },
   "outputs": [
    {
     "name": "stdout",
     "output_type": "stream",
     "text": [
      "Requirement already satisfied: pandas_datareader in /opt/conda/lib/python3.6/site-packages (0.9.0)\n",
      "Requirement already satisfied: lxml in /opt/conda/lib/python3.6/site-packages (from pandas_datareader) (4.1.1)\n",
      "Requirement already satisfied: pandas>=0.23 in /opt/conda/lib/python3.6/site-packages (from pandas_datareader) (0.23.3)\n",
      "Requirement already satisfied: requests>=2.19.0 in /opt/conda/lib/python3.6/site-packages (from pandas_datareader) (2.25.1)\n",
      "Requirement already satisfied: python-dateutil>=2.5.0 in /opt/conda/lib/python3.6/site-packages (from pandas>=0.23->pandas_datareader) (2.6.1)\n",
      "Requirement already satisfied: pytz>=2011k in /opt/conda/lib/python3.6/site-packages (from pandas>=0.23->pandas_datareader) (2017.3)\n",
      "Requirement already satisfied: numpy>=1.9.0 in /opt/conda/lib/python3.6/site-packages (from pandas>=0.23->pandas_datareader) (1.19.5)\n",
      "Requirement already satisfied: idna<3,>=2.5 in /opt/conda/lib/python3.6/site-packages (from requests>=2.19.0->pandas_datareader) (2.6)\n",
      "Requirement already satisfied: urllib3<1.27,>=1.21.1 in /opt/conda/lib/python3.6/site-packages (from requests>=2.19.0->pandas_datareader) (1.22)\n",
      "Requirement already satisfied: chardet<5,>=3.0.2 in /opt/conda/lib/python3.6/site-packages (from requests>=2.19.0->pandas_datareader) (3.0.4)\n",
      "Requirement already satisfied: certifi>=2017.4.17 in /opt/conda/lib/python3.6/site-packages (from requests>=2.19.0->pandas_datareader) (2019.11.28)\n",
      "Requirement already satisfied: six>=1.5 in /opt/conda/lib/python3.6/site-packages (from python-dateutil>=2.5.0->pandas>=0.23->pandas_datareader) (1.11.0)\n",
      "Requirement already up-to-date: seaborn in /opt/conda/lib/python3.6/site-packages (0.11.1)\n",
      "Requirement already satisfied, skipping upgrade: numpy>=1.15 in /opt/conda/lib/python3.6/site-packages (from seaborn) (1.19.5)\n",
      "Requirement already satisfied, skipping upgrade: pandas>=0.23 in /opt/conda/lib/python3.6/site-packages (from seaborn) (0.23.3)\n",
      "Requirement already satisfied, skipping upgrade: matplotlib>=2.2 in /opt/conda/lib/python3.6/site-packages (from seaborn) (3.3.4)\n",
      "Requirement already satisfied, skipping upgrade: scipy>=1.0 in /opt/conda/lib/python3.6/site-packages (from seaborn) (1.2.1)\n",
      "Requirement already satisfied, skipping upgrade: python-dateutil>=2.5.0 in /opt/conda/lib/python3.6/site-packages (from pandas>=0.23->seaborn) (2.6.1)\n",
      "Requirement already satisfied, skipping upgrade: pytz>=2011k in /opt/conda/lib/python3.6/site-packages (from pandas>=0.23->seaborn) (2017.3)\n",
      "Requirement already satisfied, skipping upgrade: kiwisolver>=1.0.1 in /opt/conda/lib/python3.6/site-packages (from matplotlib>=2.2->seaborn) (1.3.1)\n",
      "Requirement already satisfied, skipping upgrade: pillow>=6.2.0 in /opt/conda/lib/python3.6/site-packages (from matplotlib>=2.2->seaborn) (8.1.0)\n",
      "Requirement already satisfied, skipping upgrade: pyparsing!=2.0.4,!=2.1.2,!=2.1.6,>=2.0.3 in /opt/conda/lib/python3.6/site-packages (from matplotlib>=2.2->seaborn) (2.2.0)\n",
      "Requirement already satisfied, skipping upgrade: cycler>=0.10 in /opt/conda/lib/python3.6/site-packages/cycler-0.10.0-py3.6.egg (from matplotlib>=2.2->seaborn) (0.10.0)\n",
      "Requirement already satisfied, skipping upgrade: six>=1.5 in /opt/conda/lib/python3.6/site-packages (from python-dateutil>=2.5.0->pandas>=0.23->seaborn) (1.11.0)\n"
     ]
    }
   ],
   "source": [
    "# Do all imports and installs here\n",
    "!pip install pandas_datareader\n",
    "\n",
    "!pip install -U seaborn\n",
    "\n",
    "## seaborn update: might need to restart the kernal after installing the seaborn updated versoin, i was having problem\n",
    "## alway restart the kernal then it works\n",
    "\n",
    "import datetime as dt\n",
    "import matplotlib.pyplot as plt\n",
    "from matplotlib import style\n",
    "import pandas as pd\n",
    "import os\n",
    "import glob\n",
    "from datetime import datetime\n",
    "import numpy as np\n",
    "\n",
    "import pandas as pd\n",
    "import html5lib\n",
    "from bs4 import BeautifulSoup\n",
    "import requests\n",
    "\n",
    "\n",
    "import shutil\n",
    "import pandas_datareader.data as web\n",
    "import shutil\n",
    "import csv\n",
    "#import json\n",
    "import pandas_datareader.data as web\n",
    "import datetime as dt\n",
    "#import pickle\n",
    "import requests\n",
    "import bs4 as bs\n",
    "\n",
    "\n",
    "\n"
   ]
  },
  {
   "cell_type": "markdown",
   "metadata": {
    "editable": true
   },
   "source": [
    "### Step 1: Scope the Project and Gather Data\n",
    "\n",
    "#### Scope \n",
    "The scope of this project is to use **COVID19** data and see its impact on the **stock market**. \n",
    "To perform the analysis stock market data from [S&P500 companies](https://en.wikipedia.org/wiki/List_of_S%26P_500_companies) are used. During the pandamic market seriously impacted, financial stock market was crashed in early 2020 all over the world but most impact was in USA as its the biggest stock market of the world.\n",
    "\n",
    "### Project details\n",
    "This project will use the covid19 data, the daily and total cases and deaths will be compare against the market index of S&P 500 companies. There will be four data set used (referece bellow), first the data cleansing and analysis will be done and then the ETL pipeline will be setup.\n",
    "\n",
    "### Data Used in this project\n",
    "1. **S&P500 companies**: List of all S&p500 companies (data fetched from wikipedia using python html table) \n",
    "2. **Stock info of S&P500 companies**: The list of companies fetched from above [1] is then used to feteched the **stock info** by using Yahoo API(past five years of stock market data of all s&p companies is USA stock exchange) more details are bellow.\n",
    "3.**Global COVID-19 data**: Covid19 data is used from the [github](https://github.com/owid/covid-19-data/tree/master/public/dataopen) full data set from 2020-2021 is used. \n",
    "4.**S&P500 Index from USA**: S&P500 index is also fetched from Yahoo finance website to analyse the market trend. Download the S&P500 index data in CSV format from the [Yahoo Finance](https://finance.yahoo.com/quote/%5EGSPC/history/), max data set is downloaded from 1927 \n",
    "\n",
    "### End Solution\n",
    "The aim is to provide the solution by creating ETL pipeline of the above data so that daily grapsh can be created for Financal Analyst or Stock market broker the analyse the individual stock and market trend in pandamic.\n",
    "\n",
    "### Tools Used\n",
    "- S3\n",
    "- Python\n",
    "- Redshift\n",
    "- SQL\n",
    "\n",
    "#### Describe and Gather Data \n",
    "The data and its sources used in this project is described above, here short overview of what type of information each data contains.\n",
    "\n",
    "1.**S&P500 companies**: This data include info like list of all S&p500 companies, the name of company, stock ticker(Apple:AAPL), sector, industry it belong to, date it join the stock exchange, etc.\n",
    "2.**Stock info of S&P500 companies**: Individual stock info of each of the company, daily low, high, open, close, volume info of stock.\n",
    "3.**Global COVID-19 data**: Daily count of new cases, total cases and death on global level.\n",
    "4.**S&P500 Index from USA**: S&P500 index info, the low, high , open close, volume of S&P500 index.\n",
    "\n"
   ]
  },
  {
   "cell_type": "code",
   "execution_count": 3,
   "metadata": {
    "editable": true
   },
   "outputs": [
    {
     "data": {
      "text/html": [
       "<div>\n",
       "<style scoped>\n",
       "    .dataframe tbody tr th:only-of-type {\n",
       "        vertical-align: middle;\n",
       "    }\n",
       "\n",
       "    .dataframe tbody tr th {\n",
       "        vertical-align: top;\n",
       "    }\n",
       "\n",
       "    .dataframe thead th {\n",
       "        text-align: right;\n",
       "    }\n",
       "</style>\n",
       "<table border=\"1\" class=\"dataframe\">\n",
       "  <thead>\n",
       "    <tr style=\"text-align: right;\">\n",
       "      <th></th>\n",
       "      <th>date</th>\n",
       "      <th>open</th>\n",
       "      <th>high</th>\n",
       "      <th>Low</th>\n",
       "      <th>close</th>\n",
       "      <th>adjclose</th>\n",
       "      <th>volume</th>\n",
       "    </tr>\n",
       "  </thead>\n",
       "  <tbody>\n",
       "    <tr>\n",
       "      <th>0</th>\n",
       "      <td>1927-12-30</td>\n",
       "      <td>17.660000</td>\n",
       "      <td>17.660000</td>\n",
       "      <td>17.660000</td>\n",
       "      <td>17.660000</td>\n",
       "      <td>17.660000</td>\n",
       "      <td>0</td>\n",
       "    </tr>\n",
       "    <tr>\n",
       "      <th>1</th>\n",
       "      <td>1928-01-03</td>\n",
       "      <td>17.760000</td>\n",
       "      <td>17.760000</td>\n",
       "      <td>17.760000</td>\n",
       "      <td>17.760000</td>\n",
       "      <td>17.760000</td>\n",
       "      <td>0</td>\n",
       "    </tr>\n",
       "    <tr>\n",
       "      <th>2</th>\n",
       "      <td>1928-01-04</td>\n",
       "      <td>17.719999</td>\n",
       "      <td>17.719999</td>\n",
       "      <td>17.719999</td>\n",
       "      <td>17.719999</td>\n",
       "      <td>17.719999</td>\n",
       "      <td>0</td>\n",
       "    </tr>\n",
       "    <tr>\n",
       "      <th>3</th>\n",
       "      <td>1928-01-05</td>\n",
       "      <td>17.549999</td>\n",
       "      <td>17.549999</td>\n",
       "      <td>17.549999</td>\n",
       "      <td>17.549999</td>\n",
       "      <td>17.549999</td>\n",
       "      <td>0</td>\n",
       "    </tr>\n",
       "    <tr>\n",
       "      <th>4</th>\n",
       "      <td>1928-01-06</td>\n",
       "      <td>17.660000</td>\n",
       "      <td>17.660000</td>\n",
       "      <td>17.660000</td>\n",
       "      <td>17.660000</td>\n",
       "      <td>17.660000</td>\n",
       "      <td>0</td>\n",
       "    </tr>\n",
       "  </tbody>\n",
       "</table>\n",
       "</div>"
      ],
      "text/plain": [
       "         date       open       high        Low      close   adjclose  volume\n",
       "0  1927-12-30  17.660000  17.660000  17.660000  17.660000  17.660000       0\n",
       "1  1928-01-03  17.760000  17.760000  17.760000  17.760000  17.760000       0\n",
       "2  1928-01-04  17.719999  17.719999  17.719999  17.719999  17.719999       0\n",
       "3  1928-01-05  17.549999  17.549999  17.549999  17.549999  17.549999       0\n",
       "4  1928-01-06  17.660000  17.660000  17.660000  17.660000  17.660000       0"
      ]
     },
     "execution_count": 3,
     "metadata": {},
     "output_type": "execute_result"
    }
   ],
   "source": [
    "# Read in the data here\n",
    "\n",
    "#####(data source 4)\n",
    "#GSPC_full.csv is downloaded from the Yahoo finance link mentioned above\n",
    "s_and_p_index=pd.read_csv('GSPC_full.csv')\n",
    "\n",
    "#renaming column name to lower cases\n",
    "s_and_p_index.rename(columns={'Date': 'date','Open':'open', 'High':'high','Close':'close','Adj Close':'adjclose','Volume':'volume'}, inplace=True)\n",
    "s_and_p_index.head()\n",
    "\n"
   ]
  },
  {
   "cell_type": "code",
   "execution_count": null,
   "metadata": {
    "editable": true
   },
   "outputs": [],
   "source": []
  },
  {
   "cell_type": "code",
   "execution_count": 4,
   "metadata": {
    "editable": true
   },
   "outputs": [
    {
     "data": {
      "text/html": [
       "<div>\n",
       "<style scoped>\n",
       "    .dataframe tbody tr th:only-of-type {\n",
       "        vertical-align: middle;\n",
       "    }\n",
       "\n",
       "    .dataframe tbody tr th {\n",
       "        vertical-align: top;\n",
       "    }\n",
       "\n",
       "    .dataframe thead th {\n",
       "        text-align: right;\n",
       "    }\n",
       "</style>\n",
       "<table border=\"1\" class=\"dataframe\">\n",
       "  <thead>\n",
       "    <tr style=\"text-align: right;\">\n",
       "      <th></th>\n",
       "      <th>iso_code</th>\n",
       "      <th>continent</th>\n",
       "      <th>location</th>\n",
       "      <th>date</th>\n",
       "      <th>total_cases</th>\n",
       "      <th>new_cases</th>\n",
       "      <th>new_cases_smoothed</th>\n",
       "      <th>total_deaths</th>\n",
       "      <th>new_deaths</th>\n",
       "      <th>new_deaths_smoothed</th>\n",
       "      <th>...</th>\n",
       "      <th>gdp_per_capita</th>\n",
       "      <th>extreme_poverty</th>\n",
       "      <th>cardiovasc_death_rate</th>\n",
       "      <th>diabetes_prevalence</th>\n",
       "      <th>female_smokers</th>\n",
       "      <th>male_smokers</th>\n",
       "      <th>handwashing_facilities</th>\n",
       "      <th>hospital_beds_per_thousand</th>\n",
       "      <th>life_expectancy</th>\n",
       "      <th>human_development_index</th>\n",
       "    </tr>\n",
       "  </thead>\n",
       "  <tbody>\n",
       "    <tr>\n",
       "      <th>0</th>\n",
       "      <td>AFG</td>\n",
       "      <td>Asia</td>\n",
       "      <td>Afghanistan</td>\n",
       "      <td>2020-02-24</td>\n",
       "      <td>1.0</td>\n",
       "      <td>1.0</td>\n",
       "      <td>NaN</td>\n",
       "      <td>NaN</td>\n",
       "      <td>NaN</td>\n",
       "      <td>NaN</td>\n",
       "      <td>...</td>\n",
       "      <td>1803.987</td>\n",
       "      <td>NaN</td>\n",
       "      <td>597.029</td>\n",
       "      <td>9.59</td>\n",
       "      <td>NaN</td>\n",
       "      <td>NaN</td>\n",
       "      <td>37.746</td>\n",
       "      <td>0.5</td>\n",
       "      <td>64.83</td>\n",
       "      <td>0.498</td>\n",
       "    </tr>\n",
       "    <tr>\n",
       "      <th>1</th>\n",
       "      <td>AFG</td>\n",
       "      <td>Asia</td>\n",
       "      <td>Afghanistan</td>\n",
       "      <td>2020-02-25</td>\n",
       "      <td>1.0</td>\n",
       "      <td>0.0</td>\n",
       "      <td>NaN</td>\n",
       "      <td>NaN</td>\n",
       "      <td>NaN</td>\n",
       "      <td>NaN</td>\n",
       "      <td>...</td>\n",
       "      <td>1803.987</td>\n",
       "      <td>NaN</td>\n",
       "      <td>597.029</td>\n",
       "      <td>9.59</td>\n",
       "      <td>NaN</td>\n",
       "      <td>NaN</td>\n",
       "      <td>37.746</td>\n",
       "      <td>0.5</td>\n",
       "      <td>64.83</td>\n",
       "      <td>0.498</td>\n",
       "    </tr>\n",
       "    <tr>\n",
       "      <th>2</th>\n",
       "      <td>AFG</td>\n",
       "      <td>Asia</td>\n",
       "      <td>Afghanistan</td>\n",
       "      <td>2020-02-26</td>\n",
       "      <td>1.0</td>\n",
       "      <td>0.0</td>\n",
       "      <td>NaN</td>\n",
       "      <td>NaN</td>\n",
       "      <td>NaN</td>\n",
       "      <td>NaN</td>\n",
       "      <td>...</td>\n",
       "      <td>1803.987</td>\n",
       "      <td>NaN</td>\n",
       "      <td>597.029</td>\n",
       "      <td>9.59</td>\n",
       "      <td>NaN</td>\n",
       "      <td>NaN</td>\n",
       "      <td>37.746</td>\n",
       "      <td>0.5</td>\n",
       "      <td>64.83</td>\n",
       "      <td>0.498</td>\n",
       "    </tr>\n",
       "    <tr>\n",
       "      <th>3</th>\n",
       "      <td>AFG</td>\n",
       "      <td>Asia</td>\n",
       "      <td>Afghanistan</td>\n",
       "      <td>2020-02-27</td>\n",
       "      <td>1.0</td>\n",
       "      <td>0.0</td>\n",
       "      <td>NaN</td>\n",
       "      <td>NaN</td>\n",
       "      <td>NaN</td>\n",
       "      <td>NaN</td>\n",
       "      <td>...</td>\n",
       "      <td>1803.987</td>\n",
       "      <td>NaN</td>\n",
       "      <td>597.029</td>\n",
       "      <td>9.59</td>\n",
       "      <td>NaN</td>\n",
       "      <td>NaN</td>\n",
       "      <td>37.746</td>\n",
       "      <td>0.5</td>\n",
       "      <td>64.83</td>\n",
       "      <td>0.498</td>\n",
       "    </tr>\n",
       "    <tr>\n",
       "      <th>4</th>\n",
       "      <td>AFG</td>\n",
       "      <td>Asia</td>\n",
       "      <td>Afghanistan</td>\n",
       "      <td>2020-02-28</td>\n",
       "      <td>1.0</td>\n",
       "      <td>0.0</td>\n",
       "      <td>NaN</td>\n",
       "      <td>NaN</td>\n",
       "      <td>NaN</td>\n",
       "      <td>NaN</td>\n",
       "      <td>...</td>\n",
       "      <td>1803.987</td>\n",
       "      <td>NaN</td>\n",
       "      <td>597.029</td>\n",
       "      <td>9.59</td>\n",
       "      <td>NaN</td>\n",
       "      <td>NaN</td>\n",
       "      <td>37.746</td>\n",
       "      <td>0.5</td>\n",
       "      <td>64.83</td>\n",
       "      <td>0.498</td>\n",
       "    </tr>\n",
       "  </tbody>\n",
       "</table>\n",
       "<p>5 rows × 59 columns</p>\n",
       "</div>"
      ],
      "text/plain": [
       "  iso_code continent     location        date  total_cases  new_cases  \\\n",
       "0      AFG      Asia  Afghanistan  2020-02-24          1.0        1.0   \n",
       "1      AFG      Asia  Afghanistan  2020-02-25          1.0        0.0   \n",
       "2      AFG      Asia  Afghanistan  2020-02-26          1.0        0.0   \n",
       "3      AFG      Asia  Afghanistan  2020-02-27          1.0        0.0   \n",
       "4      AFG      Asia  Afghanistan  2020-02-28          1.0        0.0   \n",
       "\n",
       "   new_cases_smoothed  total_deaths  new_deaths  new_deaths_smoothed  \\\n",
       "0                 NaN           NaN         NaN                  NaN   \n",
       "1                 NaN           NaN         NaN                  NaN   \n",
       "2                 NaN           NaN         NaN                  NaN   \n",
       "3                 NaN           NaN         NaN                  NaN   \n",
       "4                 NaN           NaN         NaN                  NaN   \n",
       "\n",
       "            ...             gdp_per_capita  extreme_poverty  \\\n",
       "0           ...                   1803.987              NaN   \n",
       "1           ...                   1803.987              NaN   \n",
       "2           ...                   1803.987              NaN   \n",
       "3           ...                   1803.987              NaN   \n",
       "4           ...                   1803.987              NaN   \n",
       "\n",
       "   cardiovasc_death_rate  diabetes_prevalence  female_smokers  male_smokers  \\\n",
       "0                597.029                 9.59             NaN           NaN   \n",
       "1                597.029                 9.59             NaN           NaN   \n",
       "2                597.029                 9.59             NaN           NaN   \n",
       "3                597.029                 9.59             NaN           NaN   \n",
       "4                597.029                 9.59             NaN           NaN   \n",
       "\n",
       "   handwashing_facilities  hospital_beds_per_thousand  life_expectancy  \\\n",
       "0                  37.746                         0.5            64.83   \n",
       "1                  37.746                         0.5            64.83   \n",
       "2                  37.746                         0.5            64.83   \n",
       "3                  37.746                         0.5            64.83   \n",
       "4                  37.746                         0.5            64.83   \n",
       "\n",
       "   human_development_index  \n",
       "0                    0.498  \n",
       "1                    0.498  \n",
       "2                    0.498  \n",
       "3                    0.498  \n",
       "4                    0.498  \n",
       "\n",
       "[5 rows x 59 columns]"
      ]
     },
     "execution_count": 4,
     "metadata": {},
     "output_type": "execute_result"
    }
   ],
   "source": [
    "#####(data source 3)\n",
    "#COVID19 data is downloaded from the linke bellow\n",
    "#https://github.com/owid/covid-19-data/tree/master/public/data\n",
    "covid19_df_full=pd.read_csv('owid-covid-data.csv')\n",
    "covid19_df_full.head()\n",
    "\n"
   ]
  },
  {
   "cell_type": "code",
   "execution_count": 5,
   "metadata": {
    "editable": true
   },
   "outputs": [
    {
     "data": {
      "text/html": [
       "<div>\n",
       "<style scoped>\n",
       "    .dataframe tbody tr th:only-of-type {\n",
       "        vertical-align: middle;\n",
       "    }\n",
       "\n",
       "    .dataframe tbody tr th {\n",
       "        vertical-align: top;\n",
       "    }\n",
       "\n",
       "    .dataframe thead th {\n",
       "        text-align: right;\n",
       "    }\n",
       "</style>\n",
       "<table border=\"1\" class=\"dataframe\">\n",
       "  <thead>\n",
       "    <tr style=\"text-align: right;\">\n",
       "      <th></th>\n",
       "      <th>iso_code</th>\n",
       "      <th>continent</th>\n",
       "      <th>location</th>\n",
       "      <th>date</th>\n",
       "      <th>total_cases</th>\n",
       "      <th>new_cases</th>\n",
       "      <th>total_deaths</th>\n",
       "      <th>new_deaths</th>\n",
       "    </tr>\n",
       "  </thead>\n",
       "  <tbody>\n",
       "    <tr>\n",
       "      <th>66962</th>\n",
       "      <td>ZWE</td>\n",
       "      <td>Africa</td>\n",
       "      <td>Zimbabwe</td>\n",
       "      <td>2021-02-01</td>\n",
       "      <td>33548.0</td>\n",
       "      <td>160.0</td>\n",
       "      <td>1234.0</td>\n",
       "      <td>17.0</td>\n",
       "    </tr>\n",
       "    <tr>\n",
       "      <th>66963</th>\n",
       "      <td>ZWE</td>\n",
       "      <td>Africa</td>\n",
       "      <td>Zimbabwe</td>\n",
       "      <td>2021-02-02</td>\n",
       "      <td>33814.0</td>\n",
       "      <td>266.0</td>\n",
       "      <td>1254.0</td>\n",
       "      <td>20.0</td>\n",
       "    </tr>\n",
       "    <tr>\n",
       "      <th>66964</th>\n",
       "      <td>ZWE</td>\n",
       "      <td>Africa</td>\n",
       "      <td>Zimbabwe</td>\n",
       "      <td>2021-02-03</td>\n",
       "      <td>33964.0</td>\n",
       "      <td>150.0</td>\n",
       "      <td>1269.0</td>\n",
       "      <td>15.0</td>\n",
       "    </tr>\n",
       "    <tr>\n",
       "      <th>66965</th>\n",
       "      <td>ZWE</td>\n",
       "      <td>Africa</td>\n",
       "      <td>Zimbabwe</td>\n",
       "      <td>2021-02-04</td>\n",
       "      <td>34171.0</td>\n",
       "      <td>207.0</td>\n",
       "      <td>1288.0</td>\n",
       "      <td>19.0</td>\n",
       "    </tr>\n",
       "    <tr>\n",
       "      <th>66966</th>\n",
       "      <td>ZWE</td>\n",
       "      <td>Africa</td>\n",
       "      <td>Zimbabwe</td>\n",
       "      <td>2021-02-05</td>\n",
       "      <td>34331.0</td>\n",
       "      <td>160.0</td>\n",
       "      <td>1303.0</td>\n",
       "      <td>15.0</td>\n",
       "    </tr>\n",
       "  </tbody>\n",
       "</table>\n",
       "</div>"
      ],
      "text/plain": [
       "      iso_code continent  location        date  total_cases  new_cases  \\\n",
       "66962      ZWE    Africa  Zimbabwe  2021-02-01      33548.0      160.0   \n",
       "66963      ZWE    Africa  Zimbabwe  2021-02-02      33814.0      266.0   \n",
       "66964      ZWE    Africa  Zimbabwe  2021-02-03      33964.0      150.0   \n",
       "66965      ZWE    Africa  Zimbabwe  2021-02-04      34171.0      207.0   \n",
       "66966      ZWE    Africa  Zimbabwe  2021-02-05      34331.0      160.0   \n",
       "\n",
       "       total_deaths  new_deaths  \n",
       "66962        1234.0        17.0  \n",
       "66963        1254.0        20.0  \n",
       "66964        1269.0        15.0  \n",
       "66965        1288.0        19.0  \n",
       "66966        1303.0        15.0  "
      ]
     },
     "execution_count": 5,
     "metadata": {},
     "output_type": "execute_result"
    }
   ],
   "source": [
    "## choosign selected columns\n",
    "covid19_df=covid19_df_full.iloc[:,0:6]\n",
    "\n",
    "#renaming column name to lower cases\n",
    "covid19_df=covid19_df_full.loc[:,['iso_code', 'continent', 'location','date','total_cases','new_cases','total_deaths','new_deaths']]\n",
    "\n",
    "##replacing NaN values with zero\n",
    "covid19_df['total_deaths'] = covid19_df['total_deaths'].replace(np.nan, 0)\n",
    "covid19_df['new_deaths'] = covid19_df['new_deaths'].replace(np.nan, 0)\n",
    "#covid19_df.to_csv('covid19_df_clean.csv', index = False, header=True)\n",
    "\n",
    "covid19_df.tail()\n",
    "\n"
   ]
  },
  {
   "cell_type": "code",
   "execution_count": 6,
   "metadata": {
    "editable": true
   },
   "outputs": [
    {
     "data": {
      "text/plain": [
       "(66967, 8)"
      ]
     },
     "execution_count": 6,
     "metadata": {},
     "output_type": "execute_result"
    }
   ],
   "source": [
    "covid19_df.shape"
   ]
  },
  {
   "cell_type": "code",
   "execution_count": 7,
   "metadata": {
    "editable": true
   },
   "outputs": [
    {
     "data": {
      "text/html": [
       "<div>\n",
       "<style scoped>\n",
       "    .dataframe tbody tr th:only-of-type {\n",
       "        vertical-align: middle;\n",
       "    }\n",
       "\n",
       "    .dataframe tbody tr th {\n",
       "        vertical-align: top;\n",
       "    }\n",
       "\n",
       "    .dataframe thead th {\n",
       "        text-align: right;\n",
       "    }\n",
       "</style>\n",
       "<table border=\"1\" class=\"dataframe\">\n",
       "  <thead>\n",
       "    <tr style=\"text-align: right;\">\n",
       "      <th></th>\n",
       "      <th>Symbol</th>\n",
       "      <th>Security</th>\n",
       "      <th>GICS Sector</th>\n",
       "      <th>GICS Sub-Industry</th>\n",
       "    </tr>\n",
       "  </thead>\n",
       "  <tbody>\n",
       "    <tr>\n",
       "      <th>0</th>\n",
       "      <td>MMM</td>\n",
       "      <td>3M Company</td>\n",
       "      <td>Industrials</td>\n",
       "      <td>Industrial Conglomerates</td>\n",
       "    </tr>\n",
       "    <tr>\n",
       "      <th>1</th>\n",
       "      <td>ABT</td>\n",
       "      <td>Abbott Laboratories</td>\n",
       "      <td>Health Care</td>\n",
       "      <td>Health Care Equipment</td>\n",
       "    </tr>\n",
       "    <tr>\n",
       "      <th>2</th>\n",
       "      <td>ABBV</td>\n",
       "      <td>AbbVie Inc.</td>\n",
       "      <td>Health Care</td>\n",
       "      <td>Pharmaceuticals</td>\n",
       "    </tr>\n",
       "    <tr>\n",
       "      <th>3</th>\n",
       "      <td>ABMD</td>\n",
       "      <td>Abiomed</td>\n",
       "      <td>Health Care</td>\n",
       "      <td>Health Care Equipment</td>\n",
       "    </tr>\n",
       "    <tr>\n",
       "      <th>4</th>\n",
       "      <td>ACN</td>\n",
       "      <td>Accenture</td>\n",
       "      <td>Information Technology</td>\n",
       "      <td>IT Consulting &amp; Other Services</td>\n",
       "    </tr>\n",
       "  </tbody>\n",
       "</table>\n",
       "</div>"
      ],
      "text/plain": [
       "  Symbol             Security             GICS Sector  \\\n",
       "0    MMM           3M Company             Industrials   \n",
       "1    ABT  Abbott Laboratories             Health Care   \n",
       "2   ABBV          AbbVie Inc.             Health Care   \n",
       "3   ABMD              Abiomed             Health Care   \n",
       "4    ACN            Accenture  Information Technology   \n",
       "\n",
       "                GICS Sub-Industry  \n",
       "0        Industrial Conglomerates  \n",
       "1           Health Care Equipment  \n",
       "2                 Pharmaceuticals  \n",
       "3           Health Care Equipment  \n",
       "4  IT Consulting & Other Services  "
      ]
     },
     "execution_count": 7,
     "metadata": {},
     "output_type": "execute_result"
    }
   ],
   "source": [
    "### S&P500 companies Data source 1\n",
    "\n",
    "\n",
    "# Scrape the entire S&P500 list from Wikipedia into a Pandas DataFrame;\n",
    "ticker_list = pd.read_html(\n",
    "'https://en.wikipedia.org/wiki/List_of_S%26P_500_companies')\n",
    "df = ticker_list[0]\n",
    "df.columns = df.iloc[0]\n",
    "df = df[1:]\n",
    "df.to_csv('export_sandp500_company.csv', index = False, header=True)\n",
    "\n",
    "\n",
    "s_and_p_company_info=pd.read_csv('export_sandp500_company.csv')\n",
    "# dropping all unnecessary columns\n",
    "small_s_and_p_company_info = s_and_p_company_info.drop(['SEC filings','Headquarters Location','Date first added','CIK','Founded'], axis=1)\n",
    "small_s_and_p_company_info.head()\n"
   ]
  },
  {
   "cell_type": "code",
   "execution_count": 8,
   "metadata": {
    "editable": true
   },
   "outputs": [],
   "source": [
    "\n",
    "# renameing columns\n",
    "small_s_and_p_company_info.rename(columns={'Symbol':'ticker','Security': 'company_name', 'GICS Sector':'sector','GICS Sub-Industry':'industry'}, inplace=True)\n",
    "small_s_and_p_company_info.head()\n",
    "small_s_and_p_company_info.to_csv('csv_companylistsnp_500_final.csv', index = False, header=True)\n"
   ]
  },
  {
   "cell_type": "code",
   "execution_count": null,
   "metadata": {
    "editable": true
   },
   "outputs": [],
   "source": []
  },
  {
   "cell_type": "code",
   "execution_count": 9,
   "metadata": {
    "editable": true
   },
   "outputs": [],
   "source": [
    "\"\"\"\n",
    "   This method will get a ticker for each company and create a CSV for each of the ticker\n",
    "\"\"\"\n",
    "def get_stock_data_from_yahoo_financials():\n",
    "    \n",
    "  \n",
    "    tickers=small_s_and_p_company_info.values.tolist()\n",
    "   \n",
    "    if os.path.exists('stock_dfs/csv'):\n",
    "        shutil.rmtree('stock_dfs/csv')\n",
    "    os.makedirs('stock_dfs/csv')\n",
    "    \n",
    "   ## start TIME DATE IS CONFIGURABLE, currently its set to fetch 5 years of data\n",
    "    start = dt.datetime(2015,1,1)\n",
    "    end = dt.datetime.now()\n",
    "    \n",
    "    for ticker in tickers:\n",
    "        # build a dataframe with all ticker information from yahoo and set the date value as the index\n",
    "        df = web.DataReader(ticker[0].replace('.', '-'), 'yahoo', start, end)\n",
    "        df.reset_index(inplace=True)\n",
    "        df.set_index('Date', inplace=True)\n",
    "        df.insert(0, 'company', ticker[0])\n",
    "            \n",
    "        # store each ticker into it's own csv file on a folder located together with the notebooks \n",
    "        df.to_csv('stock_dfs/csv/{}.csv'.format(ticker[0]))\n",
    "        \n",
    "   "
   ]
  },
  {
   "cell_type": "code",
   "execution_count": 1,
   "metadata": {
    "editable": true
   },
   "outputs": [],
   "source": [
    "get_stock_data_from_yahoo_financials()"
   ]
  },
  {
   "cell_type": "code",
   "execution_count": 10,
   "metadata": {
    "editable": true
   },
   "outputs": [],
   "source": [
    "# getting file path \n",
    "def get_files(filepath):\n",
    "    all_files = []\n",
    "    for root, dirs, files in os.walk(filepath):\n",
    "        files = glob.glob(os.path.join(root,'*.csv'))\n",
    "        for f in files :\n",
    "            all_files.append(os.path.abspath(f))\n",
    "    \n",
    "    return all_files"
   ]
  },
  {
   "cell_type": "code",
   "execution_count": 11,
   "metadata": {
    "editable": true
   },
   "outputs": [],
   "source": [
    "song_files = get_files(\"stock_dfs/csv\")"
   ]
  },
  {
   "cell_type": "code",
   "execution_count": 12,
   "metadata": {
    "editable": true
   },
   "outputs": [],
   "source": [
    "#df = pd.read_csv(song_files[1:2])\n",
    "li =[]\n",
    "for files in song_files:\n",
    "    df_files =pd.read_csv(files)\n",
    "    li.append(df_files)\n",
    "big_frame = pd.concat(li, ignore_index=True)\n",
    "    \n",
    "    \n",
    "    "
   ]
  },
  {
   "cell_type": "code",
   "execution_count": 13,
   "metadata": {
    "editable": true
   },
   "outputs": [
    {
     "data": {
      "text/html": [
       "<div>\n",
       "<style scoped>\n",
       "    .dataframe tbody tr th:only-of-type {\n",
       "        vertical-align: middle;\n",
       "    }\n",
       "\n",
       "    .dataframe tbody tr th {\n",
       "        vertical-align: top;\n",
       "    }\n",
       "\n",
       "    .dataframe thead th {\n",
       "        text-align: right;\n",
       "    }\n",
       "</style>\n",
       "<table border=\"1\" class=\"dataframe\">\n",
       "  <thead>\n",
       "    <tr style=\"text-align: right;\">\n",
       "      <th></th>\n",
       "      <th>Date</th>\n",
       "      <th>company</th>\n",
       "      <th>High</th>\n",
       "      <th>Low</th>\n",
       "      <th>Open</th>\n",
       "      <th>Close</th>\n",
       "      <th>Volume</th>\n",
       "      <th>Adj Close</th>\n",
       "    </tr>\n",
       "  </thead>\n",
       "  <tbody>\n",
       "    <tr>\n",
       "      <th>7825</th>\n",
       "      <td>2021-02-08</td>\n",
       "      <td>EXPD</td>\n",
       "      <td>94.680000</td>\n",
       "      <td>93.059998</td>\n",
       "      <td>93.120003</td>\n",
       "      <td>94.639999</td>\n",
       "      <td>1004700.0</td>\n",
       "      <td>94.639999</td>\n",
       "    </tr>\n",
       "    <tr>\n",
       "      <th>7826</th>\n",
       "      <td>2021-02-09</td>\n",
       "      <td>EXPD</td>\n",
       "      <td>97.129997</td>\n",
       "      <td>94.720001</td>\n",
       "      <td>94.980003</td>\n",
       "      <td>96.919998</td>\n",
       "      <td>888800.0</td>\n",
       "      <td>96.919998</td>\n",
       "    </tr>\n",
       "    <tr>\n",
       "      <th>7827</th>\n",
       "      <td>2021-02-10</td>\n",
       "      <td>EXPD</td>\n",
       "      <td>98.080002</td>\n",
       "      <td>96.610001</td>\n",
       "      <td>97.629997</td>\n",
       "      <td>97.519997</td>\n",
       "      <td>1275800.0</td>\n",
       "      <td>97.519997</td>\n",
       "    </tr>\n",
       "    <tr>\n",
       "      <th>7828</th>\n",
       "      <td>2021-02-11</td>\n",
       "      <td>EXPD</td>\n",
       "      <td>98.370003</td>\n",
       "      <td>95.139999</td>\n",
       "      <td>98.089996</td>\n",
       "      <td>95.849998</td>\n",
       "      <td>1231200.0</td>\n",
       "      <td>95.849998</td>\n",
       "    </tr>\n",
       "    <tr>\n",
       "      <th>7829</th>\n",
       "      <td>2021-02-12</td>\n",
       "      <td>EXPD</td>\n",
       "      <td>96.839996</td>\n",
       "      <td>95.620003</td>\n",
       "      <td>95.660004</td>\n",
       "      <td>96.580002</td>\n",
       "      <td>913800.0</td>\n",
       "      <td>96.580002</td>\n",
       "    </tr>\n",
       "  </tbody>\n",
       "</table>\n",
       "</div>"
      ],
      "text/plain": [
       "            Date company       High        Low       Open      Close  \\\n",
       "7825  2021-02-08    EXPD  94.680000  93.059998  93.120003  94.639999   \n",
       "7826  2021-02-09    EXPD  97.129997  94.720001  94.980003  96.919998   \n",
       "7827  2021-02-10    EXPD  98.080002  96.610001  97.629997  97.519997   \n",
       "7828  2021-02-11    EXPD  98.370003  95.139999  98.089996  95.849998   \n",
       "7829  2021-02-12    EXPD  96.839996  95.620003  95.660004  96.580002   \n",
       "\n",
       "         Volume  Adj Close  \n",
       "7825  1004700.0  94.639999  \n",
       "7826   888800.0  96.919998  \n",
       "7827  1275800.0  97.519997  \n",
       "7828  1231200.0  95.849998  \n",
       "7829   913800.0  96.580002  "
      ]
     },
     "execution_count": 13,
     "metadata": {},
     "output_type": "execute_result"
    }
   ],
   "source": [
    "big_frame.tail()"
   ]
  },
  {
   "cell_type": "code",
   "execution_count": 14,
   "metadata": {
    "editable": true
   },
   "outputs": [],
   "source": [
    "\"\"\"\n",
    "   This function will add year, month, day, weekno columns\n",
    "\"\"\"\n",
    "def get_dt(dftemp):\n",
    "   \n",
    "    list_timestamp = []\n",
    "    list_year = []\n",
    "    list_month = []\n",
    "    list_date = []\n",
    "    list_hour = []\n",
    "    list_minute = []\n",
    "    list_second = []\n",
    "    list_weekofyear = []\n",
    "    list_weekday = []\n",
    "\n",
    "    for td in dftemp.date:\n",
    "        timestamp = datetime.strptime(td[:26],'%Y-%m-%d')\n",
    "        #timestamp = (datetime.utcfromtimestamp(int(float(td)).strftime('%Y-%m-%d')))\n",
    "        #print(timestamp)\n",
    "        year = timestamp.strftime('%Y')\n",
    "        #print(year)\n",
    "        month = timestamp.strftime('%m')\n",
    "        date = timestamp.strftime('%d')\n",
    "        weekofyear = timestamp.strftime('%U')\n",
    "        weekday = timestamp.strftime('%A')\n",
    "    \n",
    "\n",
    "        list_timestamp.append(timestamp)\n",
    "        list_year.append(year)\n",
    "        list_month.append(month)\n",
    "        list_date.append(date)\n",
    "        list_weekofyear.append(weekofyear)\n",
    "        list_weekday.append(weekday)\n",
    "    dftemp[\"normal_ts\"] = list_timestamp\n",
    "    dftemp[\"year\"] = list_year\n",
    "    dftemp[\"month\"] = list_month\n",
    "    dftemp[\"date\"] = list_date\n",
    "    dftemp[\"weekofyear\"] = list_weekofyear\n",
    "    dftemp[\"weekdayname\"] = list_weekday\n",
    "    \n",
    "    "
   ]
  },
  {
   "cell_type": "code",
   "execution_count": 15,
   "metadata": {
    "editable": true
   },
   "outputs": [
    {
     "data": {
      "text/html": [
       "<div>\n",
       "<style scoped>\n",
       "    .dataframe tbody tr th:only-of-type {\n",
       "        vertical-align: middle;\n",
       "    }\n",
       "\n",
       "    .dataframe tbody tr th {\n",
       "        vertical-align: top;\n",
       "    }\n",
       "\n",
       "    .dataframe thead th {\n",
       "        text-align: right;\n",
       "    }\n",
       "</style>\n",
       "<table border=\"1\" class=\"dataframe\">\n",
       "  <thead>\n",
       "    <tr style=\"text-align: right;\">\n",
       "      <th></th>\n",
       "      <th>iso_code</th>\n",
       "      <th>continent</th>\n",
       "      <th>location</th>\n",
       "      <th>date</th>\n",
       "      <th>total_cases</th>\n",
       "      <th>new_cases</th>\n",
       "      <th>total_deaths</th>\n",
       "      <th>new_deaths</th>\n",
       "    </tr>\n",
       "  </thead>\n",
       "  <tbody>\n",
       "    <tr>\n",
       "      <th>0</th>\n",
       "      <td>AFG</td>\n",
       "      <td>Asia</td>\n",
       "      <td>Afghanistan</td>\n",
       "      <td>2020-02-24</td>\n",
       "      <td>1.0</td>\n",
       "      <td>1.0</td>\n",
       "      <td>0.0</td>\n",
       "      <td>0.0</td>\n",
       "    </tr>\n",
       "    <tr>\n",
       "      <th>1</th>\n",
       "      <td>AFG</td>\n",
       "      <td>Asia</td>\n",
       "      <td>Afghanistan</td>\n",
       "      <td>2020-02-25</td>\n",
       "      <td>1.0</td>\n",
       "      <td>0.0</td>\n",
       "      <td>0.0</td>\n",
       "      <td>0.0</td>\n",
       "    </tr>\n",
       "    <tr>\n",
       "      <th>2</th>\n",
       "      <td>AFG</td>\n",
       "      <td>Asia</td>\n",
       "      <td>Afghanistan</td>\n",
       "      <td>2020-02-26</td>\n",
       "      <td>1.0</td>\n",
       "      <td>0.0</td>\n",
       "      <td>0.0</td>\n",
       "      <td>0.0</td>\n",
       "    </tr>\n",
       "    <tr>\n",
       "      <th>3</th>\n",
       "      <td>AFG</td>\n",
       "      <td>Asia</td>\n",
       "      <td>Afghanistan</td>\n",
       "      <td>2020-02-27</td>\n",
       "      <td>1.0</td>\n",
       "      <td>0.0</td>\n",
       "      <td>0.0</td>\n",
       "      <td>0.0</td>\n",
       "    </tr>\n",
       "    <tr>\n",
       "      <th>4</th>\n",
       "      <td>AFG</td>\n",
       "      <td>Asia</td>\n",
       "      <td>Afghanistan</td>\n",
       "      <td>2020-02-28</td>\n",
       "      <td>1.0</td>\n",
       "      <td>0.0</td>\n",
       "      <td>0.0</td>\n",
       "      <td>0.0</td>\n",
       "    </tr>\n",
       "  </tbody>\n",
       "</table>\n",
       "</div>"
      ],
      "text/plain": [
       "  iso_code continent     location        date  total_cases  new_cases  \\\n",
       "0      AFG      Asia  Afghanistan  2020-02-24          1.0        1.0   \n",
       "1      AFG      Asia  Afghanistan  2020-02-25          1.0        0.0   \n",
       "2      AFG      Asia  Afghanistan  2020-02-26          1.0        0.0   \n",
       "3      AFG      Asia  Afghanistan  2020-02-27          1.0        0.0   \n",
       "4      AFG      Asia  Afghanistan  2020-02-28          1.0        0.0   \n",
       "\n",
       "   total_deaths  new_deaths  \n",
       "0           0.0         0.0  \n",
       "1           0.0         0.0  \n",
       "2           0.0         0.0  \n",
       "3           0.0         0.0  \n",
       "4           0.0         0.0  "
      ]
     },
     "execution_count": 15,
     "metadata": {},
     "output_type": "execute_result"
    }
   ],
   "source": [
    "covid19_df.head()"
   ]
  },
  {
   "cell_type": "code",
   "execution_count": 16,
   "metadata": {
    "editable": true
   },
   "outputs": [],
   "source": [
    "get_dt(covid19_df)"
   ]
  },
  {
   "cell_type": "code",
   "execution_count": 17,
   "metadata": {
    "editable": true
   },
   "outputs": [],
   "source": [
    "get_dt(s_and_p_index)"
   ]
  },
  {
   "cell_type": "code",
   "execution_count": 18,
   "metadata": {
    "editable": true
   },
   "outputs": [],
   "source": [
    "s_and_p_index.rename(columns={'date': 'cal_day','normal_ts':'date'}, inplace=True)"
   ]
  },
  {
   "cell_type": "code",
   "execution_count": 19,
   "metadata": {
    "editable": true
   },
   "outputs": [],
   "source": [
    "s_and_p_index.to_csv('s_and_p_index_clean.csv', index = False, header=True)"
   ]
  },
  {
   "cell_type": "code",
   "execution_count": 20,
   "metadata": {
    "editable": true
   },
   "outputs": [
    {
     "data": {
      "text/html": [
       "<div>\n",
       "<style scoped>\n",
       "    .dataframe tbody tr th:only-of-type {\n",
       "        vertical-align: middle;\n",
       "    }\n",
       "\n",
       "    .dataframe tbody tr th {\n",
       "        vertical-align: top;\n",
       "    }\n",
       "\n",
       "    .dataframe thead th {\n",
       "        text-align: right;\n",
       "    }\n",
       "</style>\n",
       "<table border=\"1\" class=\"dataframe\">\n",
       "  <thead>\n",
       "    <tr style=\"text-align: right;\">\n",
       "      <th></th>\n",
       "      <th>iso_code</th>\n",
       "      <th>continent</th>\n",
       "      <th>location</th>\n",
       "      <th>date</th>\n",
       "      <th>total_cases</th>\n",
       "      <th>new_cases</th>\n",
       "      <th>total_deaths</th>\n",
       "      <th>new_deaths</th>\n",
       "      <th>normal_ts</th>\n",
       "      <th>year</th>\n",
       "      <th>month</th>\n",
       "      <th>weekofyear</th>\n",
       "      <th>weekdayname</th>\n",
       "    </tr>\n",
       "  </thead>\n",
       "  <tbody>\n",
       "    <tr>\n",
       "      <th>0</th>\n",
       "      <td>AFG</td>\n",
       "      <td>Asia</td>\n",
       "      <td>Afghanistan</td>\n",
       "      <td>24</td>\n",
       "      <td>1.0</td>\n",
       "      <td>1.0</td>\n",
       "      <td>0.0</td>\n",
       "      <td>0.0</td>\n",
       "      <td>2020-02-24</td>\n",
       "      <td>2020</td>\n",
       "      <td>02</td>\n",
       "      <td>08</td>\n",
       "      <td>Monday</td>\n",
       "    </tr>\n",
       "    <tr>\n",
       "      <th>1</th>\n",
       "      <td>AFG</td>\n",
       "      <td>Asia</td>\n",
       "      <td>Afghanistan</td>\n",
       "      <td>25</td>\n",
       "      <td>1.0</td>\n",
       "      <td>0.0</td>\n",
       "      <td>0.0</td>\n",
       "      <td>0.0</td>\n",
       "      <td>2020-02-25</td>\n",
       "      <td>2020</td>\n",
       "      <td>02</td>\n",
       "      <td>08</td>\n",
       "      <td>Tuesday</td>\n",
       "    </tr>\n",
       "    <tr>\n",
       "      <th>2</th>\n",
       "      <td>AFG</td>\n",
       "      <td>Asia</td>\n",
       "      <td>Afghanistan</td>\n",
       "      <td>26</td>\n",
       "      <td>1.0</td>\n",
       "      <td>0.0</td>\n",
       "      <td>0.0</td>\n",
       "      <td>0.0</td>\n",
       "      <td>2020-02-26</td>\n",
       "      <td>2020</td>\n",
       "      <td>02</td>\n",
       "      <td>08</td>\n",
       "      <td>Wednesday</td>\n",
       "    </tr>\n",
       "  </tbody>\n",
       "</table>\n",
       "</div>"
      ],
      "text/plain": [
       "  iso_code continent     location date  total_cases  new_cases  total_deaths  \\\n",
       "0      AFG      Asia  Afghanistan   24          1.0        1.0           0.0   \n",
       "1      AFG      Asia  Afghanistan   25          1.0        0.0           0.0   \n",
       "2      AFG      Asia  Afghanistan   26          1.0        0.0           0.0   \n",
       "\n",
       "   new_deaths  normal_ts  year month weekofyear weekdayname  \n",
       "0         0.0 2020-02-24  2020    02         08      Monday  \n",
       "1         0.0 2020-02-25  2020    02         08     Tuesday  \n",
       "2         0.0 2020-02-26  2020    02         08   Wednesday  "
      ]
     },
     "execution_count": 20,
     "metadata": {},
     "output_type": "execute_result"
    }
   ],
   "source": [
    "covid19_df.head(3)"
   ]
  },
  {
   "cell_type": "code",
   "execution_count": 21,
   "metadata": {
    "editable": true
   },
   "outputs": [],
   "source": [
    "covid19_df.rename(columns={'date': 'cal_day','normal_ts':'date'}, inplace=True)"
   ]
  },
  {
   "cell_type": "code",
   "execution_count": null,
   "metadata": {
    "editable": true
   },
   "outputs": [],
   "source": []
  },
  {
   "cell_type": "code",
   "execution_count": 22,
   "metadata": {
    "editable": true
   },
   "outputs": [
    {
     "data": {
      "text/html": [
       "<div>\n",
       "<style scoped>\n",
       "    .dataframe tbody tr th:only-of-type {\n",
       "        vertical-align: middle;\n",
       "    }\n",
       "\n",
       "    .dataframe tbody tr th {\n",
       "        vertical-align: top;\n",
       "    }\n",
       "\n",
       "    .dataframe thead th {\n",
       "        text-align: right;\n",
       "    }\n",
       "</style>\n",
       "<table border=\"1\" class=\"dataframe\">\n",
       "  <thead>\n",
       "    <tr style=\"text-align: right;\">\n",
       "      <th></th>\n",
       "      <th>iso_code</th>\n",
       "      <th>continent</th>\n",
       "      <th>location</th>\n",
       "      <th>cal_day</th>\n",
       "      <th>total_cases</th>\n",
       "      <th>new_cases</th>\n",
       "      <th>total_deaths</th>\n",
       "      <th>new_deaths</th>\n",
       "      <th>date</th>\n",
       "      <th>year</th>\n",
       "      <th>month</th>\n",
       "      <th>weekofyear</th>\n",
       "      <th>weekdayname</th>\n",
       "    </tr>\n",
       "  </thead>\n",
       "  <tbody>\n",
       "    <tr>\n",
       "      <th>0</th>\n",
       "      <td>AFG</td>\n",
       "      <td>Asia</td>\n",
       "      <td>Afghanistan</td>\n",
       "      <td>24</td>\n",
       "      <td>1.0</td>\n",
       "      <td>1.0</td>\n",
       "      <td>0.0</td>\n",
       "      <td>0.0</td>\n",
       "      <td>2020-02-24</td>\n",
       "      <td>2020</td>\n",
       "      <td>02</td>\n",
       "      <td>08</td>\n",
       "      <td>Monday</td>\n",
       "    </tr>\n",
       "    <tr>\n",
       "      <th>1</th>\n",
       "      <td>AFG</td>\n",
       "      <td>Asia</td>\n",
       "      <td>Afghanistan</td>\n",
       "      <td>25</td>\n",
       "      <td>1.0</td>\n",
       "      <td>0.0</td>\n",
       "      <td>0.0</td>\n",
       "      <td>0.0</td>\n",
       "      <td>2020-02-25</td>\n",
       "      <td>2020</td>\n",
       "      <td>02</td>\n",
       "      <td>08</td>\n",
       "      <td>Tuesday</td>\n",
       "    </tr>\n",
       "    <tr>\n",
       "      <th>2</th>\n",
       "      <td>AFG</td>\n",
       "      <td>Asia</td>\n",
       "      <td>Afghanistan</td>\n",
       "      <td>26</td>\n",
       "      <td>1.0</td>\n",
       "      <td>0.0</td>\n",
       "      <td>0.0</td>\n",
       "      <td>0.0</td>\n",
       "      <td>2020-02-26</td>\n",
       "      <td>2020</td>\n",
       "      <td>02</td>\n",
       "      <td>08</td>\n",
       "      <td>Wednesday</td>\n",
       "    </tr>\n",
       "  </tbody>\n",
       "</table>\n",
       "</div>"
      ],
      "text/plain": [
       "  iso_code continent     location cal_day  total_cases  new_cases  \\\n",
       "0      AFG      Asia  Afghanistan      24          1.0        1.0   \n",
       "1      AFG      Asia  Afghanistan      25          1.0        0.0   \n",
       "2      AFG      Asia  Afghanistan      26          1.0        0.0   \n",
       "\n",
       "   total_deaths  new_deaths       date  year month weekofyear weekdayname  \n",
       "0           0.0         0.0 2020-02-24  2020    02         08      Monday  \n",
       "1           0.0         0.0 2020-02-25  2020    02         08     Tuesday  \n",
       "2           0.0         0.0 2020-02-26  2020    02         08   Wednesday  "
      ]
     },
     "execution_count": 22,
     "metadata": {},
     "output_type": "execute_result"
    }
   ],
   "source": [
    "covid19_df.to_csv('covid19_df_clean.csv', index = False, header=True)\n",
    "covid19_df.head(3)"
   ]
  },
  {
   "cell_type": "code",
   "execution_count": 23,
   "metadata": {
    "editable": true
   },
   "outputs": [
    {
     "data": {
      "text/html": [
       "<div>\n",
       "<style scoped>\n",
       "    .dataframe tbody tr th:only-of-type {\n",
       "        vertical-align: middle;\n",
       "    }\n",
       "\n",
       "    .dataframe tbody tr th {\n",
       "        vertical-align: top;\n",
       "    }\n",
       "\n",
       "    .dataframe thead th {\n",
       "        text-align: right;\n",
       "    }\n",
       "</style>\n",
       "<table border=\"1\" class=\"dataframe\">\n",
       "  <thead>\n",
       "    <tr style=\"text-align: right;\">\n",
       "      <th></th>\n",
       "      <th>Date</th>\n",
       "      <th>company</th>\n",
       "      <th>High</th>\n",
       "      <th>Low</th>\n",
       "      <th>Open</th>\n",
       "      <th>Close</th>\n",
       "      <th>Volume</th>\n",
       "      <th>Adj Close</th>\n",
       "    </tr>\n",
       "  </thead>\n",
       "  <tbody>\n",
       "    <tr>\n",
       "      <th>0</th>\n",
       "      <td>2021-01-04</td>\n",
       "      <td>JNPR</td>\n",
       "      <td>22.719999</td>\n",
       "      <td>22.389999</td>\n",
       "      <td>22.500000</td>\n",
       "      <td>22.610001</td>\n",
       "      <td>5320500.0</td>\n",
       "      <td>22.610001</td>\n",
       "    </tr>\n",
       "    <tr>\n",
       "      <th>1</th>\n",
       "      <td>2021-01-05</td>\n",
       "      <td>JNPR</td>\n",
       "      <td>23.530001</td>\n",
       "      <td>22.610001</td>\n",
       "      <td>22.610001</td>\n",
       "      <td>23.360001</td>\n",
       "      <td>5935000.0</td>\n",
       "      <td>23.360001</td>\n",
       "    </tr>\n",
       "    <tr>\n",
       "      <th>2</th>\n",
       "      <td>2021-01-06</td>\n",
       "      <td>JNPR</td>\n",
       "      <td>23.820000</td>\n",
       "      <td>23.139999</td>\n",
       "      <td>23.400000</td>\n",
       "      <td>23.580000</td>\n",
       "      <td>4980800.0</td>\n",
       "      <td>23.580000</td>\n",
       "    </tr>\n",
       "    <tr>\n",
       "      <th>3</th>\n",
       "      <td>2021-01-07</td>\n",
       "      <td>JNPR</td>\n",
       "      <td>24.000000</td>\n",
       "      <td>23.549999</td>\n",
       "      <td>23.670000</td>\n",
       "      <td>23.830000</td>\n",
       "      <td>4835700.0</td>\n",
       "      <td>23.830000</td>\n",
       "    </tr>\n",
       "  </tbody>\n",
       "</table>\n",
       "</div>"
      ],
      "text/plain": [
       "         Date company       High        Low       Open      Close     Volume  \\\n",
       "0  2021-01-04    JNPR  22.719999  22.389999  22.500000  22.610001  5320500.0   \n",
       "1  2021-01-05    JNPR  23.530001  22.610001  22.610001  23.360001  5935000.0   \n",
       "2  2021-01-06    JNPR  23.820000  23.139999  23.400000  23.580000  4980800.0   \n",
       "3  2021-01-07    JNPR  24.000000  23.549999  23.670000  23.830000  4835700.0   \n",
       "\n",
       "   Adj Close  \n",
       "0  22.610001  \n",
       "1  23.360001  \n",
       "2  23.580000  \n",
       "3  23.830000  "
      ]
     },
     "execution_count": 23,
     "metadata": {},
     "output_type": "execute_result"
    }
   ],
   "source": [
    "big_frame.head(4)"
   ]
  },
  {
   "cell_type": "code",
   "execution_count": 24,
   "metadata": {
    "editable": true
   },
   "outputs": [],
   "source": [
    "big_frame.rename(columns={'Date': 'date'}, inplace=True)"
   ]
  },
  {
   "cell_type": "code",
   "execution_count": 25,
   "metadata": {
    "editable": true
   },
   "outputs": [],
   "source": [
    "get_dt(big_frame)"
   ]
  },
  {
   "cell_type": "code",
   "execution_count": 26,
   "metadata": {
    "editable": true
   },
   "outputs": [
    {
     "data": {
      "text/html": [
       "<div>\n",
       "<style scoped>\n",
       "    .dataframe tbody tr th:only-of-type {\n",
       "        vertical-align: middle;\n",
       "    }\n",
       "\n",
       "    .dataframe tbody tr th {\n",
       "        vertical-align: top;\n",
       "    }\n",
       "\n",
       "    .dataframe thead th {\n",
       "        text-align: right;\n",
       "    }\n",
       "</style>\n",
       "<table border=\"1\" class=\"dataframe\">\n",
       "  <thead>\n",
       "    <tr style=\"text-align: right;\">\n",
       "      <th></th>\n",
       "      <th>date</th>\n",
       "      <th>company</th>\n",
       "      <th>High</th>\n",
       "      <th>Low</th>\n",
       "      <th>Open</th>\n",
       "      <th>Close</th>\n",
       "      <th>Volume</th>\n",
       "      <th>Adj Close</th>\n",
       "      <th>normal_ts</th>\n",
       "      <th>year</th>\n",
       "      <th>month</th>\n",
       "      <th>weekofyear</th>\n",
       "      <th>weekdayname</th>\n",
       "    </tr>\n",
       "  </thead>\n",
       "  <tbody>\n",
       "    <tr>\n",
       "      <th>7826</th>\n",
       "      <td>09</td>\n",
       "      <td>EXPD</td>\n",
       "      <td>97.129997</td>\n",
       "      <td>94.720001</td>\n",
       "      <td>94.980003</td>\n",
       "      <td>96.919998</td>\n",
       "      <td>888800.0</td>\n",
       "      <td>96.919998</td>\n",
       "      <td>2021-02-09</td>\n",
       "      <td>2021</td>\n",
       "      <td>02</td>\n",
       "      <td>06</td>\n",
       "      <td>Tuesday</td>\n",
       "    </tr>\n",
       "    <tr>\n",
       "      <th>7827</th>\n",
       "      <td>10</td>\n",
       "      <td>EXPD</td>\n",
       "      <td>98.080002</td>\n",
       "      <td>96.610001</td>\n",
       "      <td>97.629997</td>\n",
       "      <td>97.519997</td>\n",
       "      <td>1275800.0</td>\n",
       "      <td>97.519997</td>\n",
       "      <td>2021-02-10</td>\n",
       "      <td>2021</td>\n",
       "      <td>02</td>\n",
       "      <td>06</td>\n",
       "      <td>Wednesday</td>\n",
       "    </tr>\n",
       "    <tr>\n",
       "      <th>7828</th>\n",
       "      <td>11</td>\n",
       "      <td>EXPD</td>\n",
       "      <td>98.370003</td>\n",
       "      <td>95.139999</td>\n",
       "      <td>98.089996</td>\n",
       "      <td>95.849998</td>\n",
       "      <td>1231200.0</td>\n",
       "      <td>95.849998</td>\n",
       "      <td>2021-02-11</td>\n",
       "      <td>2021</td>\n",
       "      <td>02</td>\n",
       "      <td>06</td>\n",
       "      <td>Thursday</td>\n",
       "    </tr>\n",
       "    <tr>\n",
       "      <th>7829</th>\n",
       "      <td>12</td>\n",
       "      <td>EXPD</td>\n",
       "      <td>96.839996</td>\n",
       "      <td>95.620003</td>\n",
       "      <td>95.660004</td>\n",
       "      <td>96.580002</td>\n",
       "      <td>913800.0</td>\n",
       "      <td>96.580002</td>\n",
       "      <td>2021-02-12</td>\n",
       "      <td>2021</td>\n",
       "      <td>02</td>\n",
       "      <td>06</td>\n",
       "      <td>Friday</td>\n",
       "    </tr>\n",
       "  </tbody>\n",
       "</table>\n",
       "</div>"
      ],
      "text/plain": [
       "     date company       High        Low       Open      Close     Volume  \\\n",
       "7826   09    EXPD  97.129997  94.720001  94.980003  96.919998   888800.0   \n",
       "7827   10    EXPD  98.080002  96.610001  97.629997  97.519997  1275800.0   \n",
       "7828   11    EXPD  98.370003  95.139999  98.089996  95.849998  1231200.0   \n",
       "7829   12    EXPD  96.839996  95.620003  95.660004  96.580002   913800.0   \n",
       "\n",
       "      Adj Close  normal_ts  year month weekofyear weekdayname  \n",
       "7826  96.919998 2021-02-09  2021    02         06     Tuesday  \n",
       "7827  97.519997 2021-02-10  2021    02         06   Wednesday  \n",
       "7828  95.849998 2021-02-11  2021    02         06    Thursday  \n",
       "7829  96.580002 2021-02-12  2021    02         06      Friday  "
      ]
     },
     "execution_count": 26,
     "metadata": {},
     "output_type": "execute_result"
    }
   ],
   "source": [
    "big_frame.tail(4)"
   ]
  },
  {
   "cell_type": "code",
   "execution_count": 27,
   "metadata": {
    "editable": true
   },
   "outputs": [],
   "source": [
    "#big_frame.head(2)\n",
    "big_frame.rename(columns={'date': 'cal_day'}, inplace=True)\n",
    "big_frame.rename(columns={'Open':'open', 'High':'high','Close':'close','Adj Close':'adjclose','Volume':'volume','normal_ts':'date'}, inplace=True)\n"
   ]
  },
  {
   "cell_type": "code",
   "execution_count": 28,
   "metadata": {
    "editable": true
   },
   "outputs": [
    {
     "data": {
      "text/html": [
       "<div>\n",
       "<style scoped>\n",
       "    .dataframe tbody tr th:only-of-type {\n",
       "        vertical-align: middle;\n",
       "    }\n",
       "\n",
       "    .dataframe tbody tr th {\n",
       "        vertical-align: top;\n",
       "    }\n",
       "\n",
       "    .dataframe thead th {\n",
       "        text-align: right;\n",
       "    }\n",
       "</style>\n",
       "<table border=\"1\" class=\"dataframe\">\n",
       "  <thead>\n",
       "    <tr style=\"text-align: right;\">\n",
       "      <th></th>\n",
       "      <th>cal_day</th>\n",
       "      <th>company</th>\n",
       "      <th>high</th>\n",
       "      <th>Low</th>\n",
       "      <th>open</th>\n",
       "      <th>close</th>\n",
       "      <th>volume</th>\n",
       "      <th>adjclose</th>\n",
       "      <th>date</th>\n",
       "      <th>year</th>\n",
       "      <th>month</th>\n",
       "      <th>weekofyear</th>\n",
       "      <th>weekdayname</th>\n",
       "    </tr>\n",
       "  </thead>\n",
       "  <tbody>\n",
       "    <tr>\n",
       "      <th>0</th>\n",
       "      <td>04</td>\n",
       "      <td>JNPR</td>\n",
       "      <td>22.719999</td>\n",
       "      <td>22.389999</td>\n",
       "      <td>22.500000</td>\n",
       "      <td>22.610001</td>\n",
       "      <td>5320500.0</td>\n",
       "      <td>22.610001</td>\n",
       "      <td>2021-01-04</td>\n",
       "      <td>2021</td>\n",
       "      <td>01</td>\n",
       "      <td>01</td>\n",
       "      <td>Monday</td>\n",
       "    </tr>\n",
       "    <tr>\n",
       "      <th>1</th>\n",
       "      <td>05</td>\n",
       "      <td>JNPR</td>\n",
       "      <td>23.530001</td>\n",
       "      <td>22.610001</td>\n",
       "      <td>22.610001</td>\n",
       "      <td>23.360001</td>\n",
       "      <td>5935000.0</td>\n",
       "      <td>23.360001</td>\n",
       "      <td>2021-01-05</td>\n",
       "      <td>2021</td>\n",
       "      <td>01</td>\n",
       "      <td>01</td>\n",
       "      <td>Tuesday</td>\n",
       "    </tr>\n",
       "    <tr>\n",
       "      <th>2</th>\n",
       "      <td>06</td>\n",
       "      <td>JNPR</td>\n",
       "      <td>23.820000</td>\n",
       "      <td>23.139999</td>\n",
       "      <td>23.400000</td>\n",
       "      <td>23.580000</td>\n",
       "      <td>4980800.0</td>\n",
       "      <td>23.580000</td>\n",
       "      <td>2021-01-06</td>\n",
       "      <td>2021</td>\n",
       "      <td>01</td>\n",
       "      <td>01</td>\n",
       "      <td>Wednesday</td>\n",
       "    </tr>\n",
       "  </tbody>\n",
       "</table>\n",
       "</div>"
      ],
      "text/plain": [
       "  cal_day company       high        Low       open      close     volume  \\\n",
       "0      04    JNPR  22.719999  22.389999  22.500000  22.610001  5320500.0   \n",
       "1      05    JNPR  23.530001  22.610001  22.610001  23.360001  5935000.0   \n",
       "2      06    JNPR  23.820000  23.139999  23.400000  23.580000  4980800.0   \n",
       "\n",
       "    adjclose       date  year month weekofyear weekdayname  \n",
       "0  22.610001 2021-01-04  2021    01         01      Monday  \n",
       "1  23.360001 2021-01-05  2021    01         01     Tuesday  \n",
       "2  23.580000 2021-01-06  2021    01         01   Wednesday  "
      ]
     },
     "execution_count": 28,
     "metadata": {},
     "output_type": "execute_result"
    }
   ],
   "source": [
    "big_frame.head(3)"
   ]
  },
  {
   "cell_type": "code",
   "execution_count": 29,
   "metadata": {
    "editable": true
   },
   "outputs": [],
   "source": [
    "big_frame.to_csv('snp_allcompanies_clean.csv', index = False, header=True)"
   ]
  },
  {
   "cell_type": "code",
   "execution_count": 30,
   "metadata": {
    "editable": true
   },
   "outputs": [
    {
     "data": {
      "image/png": "[encoded data removed]",
      "text/plain": [
       "<Figure size 432x288 with 1 Axes>"
      ]
     },
     "metadata": {},
     "output_type": "display_data"
    }
   ],
   "source": [
    "labels = s_and_p_company_info['GICS Sector'].value_counts().index\n",
    "values = s_and_p_company_info['GICS Sector'].value_counts().values\n",
    "\n",
    "\n",
    "plt.pie(values,labels=labels,autopct='%1.1f%%')\n",
    "plt.title('S&P Companies by Sector')\n",
    "plt.axis('equal')\n",
    "plt.show()"
   ]
  },
  {
   "cell_type": "code",
   "execution_count": 31,
   "metadata": {
    "editable": true
   },
   "outputs": [
    {
     "data": {
      "text/html": [
       "<div>\n",
       "<style scoped>\n",
       "    .dataframe tbody tr th:only-of-type {\n",
       "        vertical-align: middle;\n",
       "    }\n",
       "\n",
       "    .dataframe tbody tr th {\n",
       "        vertical-align: top;\n",
       "    }\n",
       "\n",
       "    .dataframe thead th {\n",
       "        text-align: right;\n",
       "    }\n",
       "</style>\n",
       "<table border=\"1\" class=\"dataframe\">\n",
       "  <thead>\n",
       "    <tr style=\"text-align: right;\">\n",
       "      <th></th>\n",
       "      <th>cal_day</th>\n",
       "      <th>open</th>\n",
       "      <th>high</th>\n",
       "      <th>Low</th>\n",
       "      <th>close</th>\n",
       "      <th>adjclose</th>\n",
       "      <th>volume</th>\n",
       "      <th>date</th>\n",
       "      <th>year</th>\n",
       "      <th>month</th>\n",
       "      <th>weekofyear</th>\n",
       "      <th>weekdayname</th>\n",
       "    </tr>\n",
       "  </thead>\n",
       "  <tbody>\n",
       "    <tr>\n",
       "      <th>0</th>\n",
       "      <td>30</td>\n",
       "      <td>17.660000</td>\n",
       "      <td>17.660000</td>\n",
       "      <td>17.660000</td>\n",
       "      <td>17.660000</td>\n",
       "      <td>17.660000</td>\n",
       "      <td>0</td>\n",
       "      <td>1927-12-30</td>\n",
       "      <td>1927</td>\n",
       "      <td>12</td>\n",
       "      <td>52</td>\n",
       "      <td>Friday</td>\n",
       "    </tr>\n",
       "    <tr>\n",
       "      <th>1</th>\n",
       "      <td>03</td>\n",
       "      <td>17.760000</td>\n",
       "      <td>17.760000</td>\n",
       "      <td>17.760000</td>\n",
       "      <td>17.760000</td>\n",
       "      <td>17.760000</td>\n",
       "      <td>0</td>\n",
       "      <td>1928-01-03</td>\n",
       "      <td>1928</td>\n",
       "      <td>01</td>\n",
       "      <td>01</td>\n",
       "      <td>Tuesday</td>\n",
       "    </tr>\n",
       "    <tr>\n",
       "      <th>2</th>\n",
       "      <td>04</td>\n",
       "      <td>17.719999</td>\n",
       "      <td>17.719999</td>\n",
       "      <td>17.719999</td>\n",
       "      <td>17.719999</td>\n",
       "      <td>17.719999</td>\n",
       "      <td>0</td>\n",
       "      <td>1928-01-04</td>\n",
       "      <td>1928</td>\n",
       "      <td>01</td>\n",
       "      <td>01</td>\n",
       "      <td>Wednesday</td>\n",
       "    </tr>\n",
       "  </tbody>\n",
       "</table>\n",
       "</div>"
      ],
      "text/plain": [
       "  cal_day       open       high        Low      close   adjclose  volume  \\\n",
       "0      30  17.660000  17.660000  17.660000  17.660000  17.660000       0   \n",
       "1      03  17.760000  17.760000  17.760000  17.760000  17.760000       0   \n",
       "2      04  17.719999  17.719999  17.719999  17.719999  17.719999       0   \n",
       "\n",
       "        date  year month weekofyear weekdayname  \n",
       "0 1927-12-30  1927    12         52      Friday  \n",
       "1 1928-01-03  1928    01         01     Tuesday  \n",
       "2 1928-01-04  1928    01         01   Wednesday  "
      ]
     },
     "execution_count": 31,
     "metadata": {},
     "output_type": "execute_result"
    }
   ],
   "source": [
    "s_and_p_index.head(3)"
   ]
  },
  {
   "cell_type": "code",
   "execution_count": 32,
   "metadata": {
    "editable": true
   },
   "outputs": [],
   "source": [
    "per_each_neighbour_parent_count = s_and_p_index.groupby('year')['volume'].sum().reset_index(name = \"total volume\")"
   ]
  },
  {
   "cell_type": "code",
   "execution_count": 33,
   "metadata": {
    "editable": true
   },
   "outputs": [],
   "source": [
    "snp_year=per_each_neighbour_parent_count.sort_values('year', ascending=False)[1:20]"
   ]
  },
  {
   "cell_type": "code",
   "execution_count": 34,
   "metadata": {
    "editable": true
   },
   "outputs": [
    {
     "data": {
      "image/png": "[encoded data removed]",
      "text/plain": [
       "<Figure size 1728x720 with 1 Axes>"
      ]
     },
     "metadata": {
      "needs_background": "light"
     },
     "output_type": "display_data"
    }
   ],
   "source": [
    "labels = snp_year['year']\n",
    "values = snp_year['total volume'].values\n",
    "window=1\n",
    "plt.figure(figsize=(24, 10))\n",
    "plt.bar(labels, values)\n",
    "#plt.plot(labels, values, color='orange', linestyle='dashed')\n",
    "plt.title('Stock Volume Each Month during COVID19', size=30)\n",
    "plt.xlabel('Days Since 1/22/2020', size=30)\n",
    "plt.ylabel('Volume in Millions', size=30)\n",
    "plt.legend(['Stock Volume {} month'.format(window), 'Stock Volume by month'], prop={'size': 20})\n",
    "plt.xticks(size=20)\n",
    "plt.yticks(size=20)\n",
    "plt.show()\n"
   ]
  },
  {
   "cell_type": "code",
   "execution_count": null,
   "metadata": {
    "editable": true
   },
   "outputs": [],
   "source": []
  },
  {
   "cell_type": "markdown",
   "metadata": {
    "editable": true
   },
   "source": [
    "### Step 2: Explore and Assess the Data\n",
    "#### Explore the Data \n",
    "### Data quality issues\n",
    "The date used in this project is of good quality so require only minor data cleaning, since data is of financial and Covid19 related so quality of data is very good.\n",
    "#### Cleaning Steps\n",
    "- NaN values are rename as '0'\n",
    "- Column names are changed to lower cases.\n",
    "\n"
   ]
  },
  {
   "cell_type": "code",
   "execution_count": 35,
   "metadata": {
    "editable": true
   },
   "outputs": [],
   "source": [
    "# Performing cleaning tasks here\n",
    "\n",
    "\n"
   ]
  },
  {
   "cell_type": "code",
   "execution_count": 36,
   "metadata": {
    "editable": true
   },
   "outputs": [],
   "source": [
    "\"\"\"\n",
    "   This function will group the data and append column name togeter\n",
    "\"\"\"\n",
    "def get_datashort(df,value_2,value3):\n",
    "    value4 = df.groupby(['year','month'])[value_2].sum().reset_index(name = value3)\n",
    "    value4=value4.sort_values('year', ascending=False)\n",
    "    value4 = value4.query('year == \"2020\"')\n",
    "    value4['year_month'] = value4['year'].str.cat(value4['month'],sep=\"-\")\n",
    "    return value4\n"
   ]
  },
  {
   "cell_type": "code",
   "execution_count": 37,
   "metadata": {
    "editable": true
   },
   "outputs": [
    {
     "name": "stderr",
     "output_type": "stream",
     "text": [
      "/opt/conda/lib/python3.6/site-packages/ipykernel_launcher.py:8: SettingWithCopyWarning: \n",
      "A value is trying to be set on a copy of a slice from a DataFrame.\n",
      "Try using .loc[row_indexer,col_indexer] = value instead\n",
      "\n",
      "See the caveats in the documentation: http://pandas.pydata.org/pandas-docs/stable/indexing.html#indexing-view-versus-copy\n",
      "  \n"
     ]
    }
   ],
   "source": [
    "snp_m_y=get_datashort(s_and_p_index,'volume','total volume')"
   ]
  },
  {
   "cell_type": "code",
   "execution_count": 38,
   "metadata": {
    "editable": true
   },
   "outputs": [
    {
     "name": "stderr",
     "output_type": "stream",
     "text": [
      "/opt/conda/lib/python3.6/site-packages/ipykernel_launcher.py:8: SettingWithCopyWarning: \n",
      "A value is trying to be set on a copy of a slice from a DataFrame.\n",
      "Try using .loc[row_indexer,col_indexer] = value instead\n",
      "\n",
      "See the caveats in the documentation: http://pandas.pydata.org/pandas-docs/stable/indexing.html#indexing-view-versus-copy\n",
      "  \n"
     ]
    }
   ],
   "source": [
    "covid_m_y=get_datashort(covid19_df,'new_cases','total cases')"
   ]
  },
  {
   "cell_type": "code",
   "execution_count": 39,
   "metadata": {
    "editable": true
   },
   "outputs": [
    {
     "data": {
      "text/html": [
       "<div>\n",
       "<style scoped>\n",
       "    .dataframe tbody tr th:only-of-type {\n",
       "        vertical-align: middle;\n",
       "    }\n",
       "\n",
       "    .dataframe tbody tr th {\n",
       "        vertical-align: top;\n",
       "    }\n",
       "\n",
       "    .dataframe thead th {\n",
       "        text-align: right;\n",
       "    }\n",
       "</style>\n",
       "<table border=\"1\" class=\"dataframe\">\n",
       "  <thead>\n",
       "    <tr style=\"text-align: right;\">\n",
       "      <th></th>\n",
       "      <th>year</th>\n",
       "      <th>month</th>\n",
       "      <th>total cases</th>\n",
       "      <th>year_month</th>\n",
       "    </tr>\n",
       "  </thead>\n",
       "  <tbody>\n",
       "    <tr>\n",
       "      <th>0</th>\n",
       "      <td>2020</td>\n",
       "      <td>01</td>\n",
       "      <td>28123.0</td>\n",
       "      <td>2020-01</td>\n",
       "    </tr>\n",
       "    <tr>\n",
       "      <th>1</th>\n",
       "      <td>2020</td>\n",
       "      <td>02</td>\n",
       "      <td>228945.0</td>\n",
       "      <td>2020-02</td>\n",
       "    </tr>\n",
       "    <tr>\n",
       "      <th>2</th>\n",
       "      <td>2020</td>\n",
       "      <td>03</td>\n",
       "      <td>2765642.0</td>\n",
       "      <td>2020-03</td>\n",
       "    </tr>\n",
       "  </tbody>\n",
       "</table>\n",
       "</div>"
      ],
      "text/plain": [
       "   year month  total cases year_month\n",
       "0  2020    01      28123.0    2020-01\n",
       "1  2020    02     228945.0    2020-02\n",
       "2  2020    03    2765642.0    2020-03"
      ]
     },
     "execution_count": 39,
     "metadata": {},
     "output_type": "execute_result"
    }
   ],
   "source": [
    "covid_m_y.head(3)"
   ]
  },
  {
   "cell_type": "code",
   "execution_count": 40,
   "metadata": {
    "editable": true
   },
   "outputs": [
    {
     "data": {
      "text/html": [
       "<div>\n",
       "<style scoped>\n",
       "    .dataframe tbody tr th:only-of-type {\n",
       "        vertical-align: middle;\n",
       "    }\n",
       "\n",
       "    .dataframe tbody tr th {\n",
       "        vertical-align: top;\n",
       "    }\n",
       "\n",
       "    .dataframe thead th {\n",
       "        text-align: right;\n",
       "    }\n",
       "</style>\n",
       "<table border=\"1\" class=\"dataframe\">\n",
       "  <thead>\n",
       "    <tr style=\"text-align: right;\">\n",
       "      <th></th>\n",
       "      <th>year</th>\n",
       "      <th>month</th>\n",
       "      <th>total volume</th>\n",
       "      <th>year_month</th>\n",
       "    </tr>\n",
       "  </thead>\n",
       "  <tbody>\n",
       "    <tr>\n",
       "      <th>1111</th>\n",
       "      <td>2020</td>\n",
       "      <td>07</td>\n",
       "      <td>97197020000</td>\n",
       "      <td>2020-07</td>\n",
       "    </tr>\n",
       "    <tr>\n",
       "      <th>1105</th>\n",
       "      <td>2020</td>\n",
       "      <td>01</td>\n",
       "      <td>77104420000</td>\n",
       "      <td>2020-01</td>\n",
       "    </tr>\n",
       "    <tr>\n",
       "      <th>1106</th>\n",
       "      <td>2020</td>\n",
       "      <td>02</td>\n",
       "      <td>84292270000</td>\n",
       "      <td>2020-02</td>\n",
       "    </tr>\n",
       "  </tbody>\n",
       "</table>\n",
       "</div>"
      ],
      "text/plain": [
       "      year month  total volume year_month\n",
       "1111  2020    07   97197020000    2020-07\n",
       "1105  2020    01   77104420000    2020-01\n",
       "1106  2020    02   84292270000    2020-02"
      ]
     },
     "execution_count": 40,
     "metadata": {},
     "output_type": "execute_result"
    }
   ],
   "source": [
    "snp_m_y.head(3)"
   ]
  },
  {
   "cell_type": "code",
   "execution_count": 41,
   "metadata": {
    "editable": true
   },
   "outputs": [
    {
     "data": {
      "text/html": [
       "<div>\n",
       "<style scoped>\n",
       "    .dataframe tbody tr th:only-of-type {\n",
       "        vertical-align: middle;\n",
       "    }\n",
       "\n",
       "    .dataframe tbody tr th {\n",
       "        vertical-align: top;\n",
       "    }\n",
       "\n",
       "    .dataframe thead th {\n",
       "        text-align: right;\n",
       "    }\n",
       "</style>\n",
       "<table border=\"1\" class=\"dataframe\">\n",
       "  <thead>\n",
       "    <tr style=\"text-align: right;\">\n",
       "      <th></th>\n",
       "      <th>year</th>\n",
       "      <th>month</th>\n",
       "      <th>total cases</th>\n",
       "      <th>year_month</th>\n",
       "    </tr>\n",
       "  </thead>\n",
       "  <tbody>\n",
       "    <tr>\n",
       "      <th>0</th>\n",
       "      <td>2020</td>\n",
       "      <td>01</td>\n",
       "      <td>28123.0</td>\n",
       "      <td>2020-01</td>\n",
       "    </tr>\n",
       "    <tr>\n",
       "      <th>1</th>\n",
       "      <td>2020</td>\n",
       "      <td>02</td>\n",
       "      <td>228945.0</td>\n",
       "      <td>2020-02</td>\n",
       "    </tr>\n",
       "    <tr>\n",
       "      <th>2</th>\n",
       "      <td>2020</td>\n",
       "      <td>03</td>\n",
       "      <td>2765642.0</td>\n",
       "      <td>2020-03</td>\n",
       "    </tr>\n",
       "  </tbody>\n",
       "</table>\n",
       "</div>"
      ],
      "text/plain": [
       "   year month  total cases year_month\n",
       "0  2020    01      28123.0    2020-01\n",
       "1  2020    02     228945.0    2020-02\n",
       "2  2020    03    2765642.0    2020-03"
      ]
     },
     "execution_count": 41,
     "metadata": {},
     "output_type": "execute_result"
    }
   ],
   "source": [
    "covid_m_y.head(3)"
   ]
  },
  {
   "cell_type": "code",
   "execution_count": 42,
   "metadata": {
    "editable": true
   },
   "outputs": [],
   "source": [
    "\"\"\"\n",
    "   This function will filter data based on year, weekday and append column name\n",
    "\"\"\"\n",
    "def get_datashort_wkd(df,value_2,value3,NoWKEND,year2020):\n",
    "    value4 = df.groupby(['year','month','date','weekdayname','cal_day'])[value_2].sum().reset_index(name = value3)\n",
    "    \n",
    "    if(year2020):\n",
    "        value4 = value4.query('year == \"2020\"')\n",
    "\n",
    "    \n",
    "    #covid_m_d=covid_m_y.sort_values('year', ascending=False)\n",
    "    #value4['month_date'] = value4['month'].str.cat(value4['date'],sep=\"-\")\n",
    "    if (NoWKEND):\n",
    "        #print(\"NoWKED_B\",value4)\n",
    "        value4 = value4.query('weekdayname != \"Saturday\" & weekdayname != \"Sunday\"')\n",
    "        #print(\"NoWKED_A\",value4)\n",
    "    \n",
    "    #value4 = df.groupby(['year','month','date'])[value_2].sum().reset_index(name = value3)\n",
    "    #covid_m_d=covid_m_y.sort_values('year', ascending=False)\n",
    "    \n",
    "    value4['month_date'] = value4['month'].str.cat(value4['cal_day'],sep=\"-\")\n",
    "    \n",
    "    #print(\"NoWKED_modate\",value4)\n",
    "    return value4\n",
    "\n",
    "\n"
   ]
  },
  {
   "cell_type": "code",
   "execution_count": null,
   "metadata": {
    "editable": true
   },
   "outputs": [],
   "source": []
  },
  {
   "cell_type": "code",
   "execution_count": null,
   "metadata": {
    "editable": true
   },
   "outputs": [],
   "source": []
  },
  {
   "cell_type": "code",
   "execution_count": 43,
   "metadata": {
    "editable": true
   },
   "outputs": [
    {
     "data": {
      "text/html": [
       "<div>\n",
       "<style scoped>\n",
       "    .dataframe tbody tr th:only-of-type {\n",
       "        vertical-align: middle;\n",
       "    }\n",
       "\n",
       "    .dataframe tbody tr th {\n",
       "        vertical-align: top;\n",
       "    }\n",
       "\n",
       "    .dataframe thead th {\n",
       "        text-align: right;\n",
       "    }\n",
       "</style>\n",
       "<table border=\"1\" class=\"dataframe\">\n",
       "  <thead>\n",
       "    <tr style=\"text-align: right;\">\n",
       "      <th></th>\n",
       "      <th>iso_code</th>\n",
       "      <th>continent</th>\n",
       "      <th>location</th>\n",
       "      <th>cal_day</th>\n",
       "      <th>total_cases</th>\n",
       "      <th>new_cases</th>\n",
       "      <th>total_deaths</th>\n",
       "      <th>new_deaths</th>\n",
       "      <th>date</th>\n",
       "      <th>year</th>\n",
       "      <th>month</th>\n",
       "      <th>weekofyear</th>\n",
       "      <th>weekdayname</th>\n",
       "    </tr>\n",
       "  </thead>\n",
       "  <tbody>\n",
       "    <tr>\n",
       "      <th>0</th>\n",
       "      <td>AFG</td>\n",
       "      <td>Asia</td>\n",
       "      <td>Afghanistan</td>\n",
       "      <td>24</td>\n",
       "      <td>1.0</td>\n",
       "      <td>1.0</td>\n",
       "      <td>0.0</td>\n",
       "      <td>0.0</td>\n",
       "      <td>2020-02-24</td>\n",
       "      <td>2020</td>\n",
       "      <td>02</td>\n",
       "      <td>08</td>\n",
       "      <td>Monday</td>\n",
       "    </tr>\n",
       "    <tr>\n",
       "      <th>1</th>\n",
       "      <td>AFG</td>\n",
       "      <td>Asia</td>\n",
       "      <td>Afghanistan</td>\n",
       "      <td>25</td>\n",
       "      <td>1.0</td>\n",
       "      <td>0.0</td>\n",
       "      <td>0.0</td>\n",
       "      <td>0.0</td>\n",
       "      <td>2020-02-25</td>\n",
       "      <td>2020</td>\n",
       "      <td>02</td>\n",
       "      <td>08</td>\n",
       "      <td>Tuesday</td>\n",
       "    </tr>\n",
       "    <tr>\n",
       "      <th>2</th>\n",
       "      <td>AFG</td>\n",
       "      <td>Asia</td>\n",
       "      <td>Afghanistan</td>\n",
       "      <td>26</td>\n",
       "      <td>1.0</td>\n",
       "      <td>0.0</td>\n",
       "      <td>0.0</td>\n",
       "      <td>0.0</td>\n",
       "      <td>2020-02-26</td>\n",
       "      <td>2020</td>\n",
       "      <td>02</td>\n",
       "      <td>08</td>\n",
       "      <td>Wednesday</td>\n",
       "    </tr>\n",
       "    <tr>\n",
       "      <th>3</th>\n",
       "      <td>AFG</td>\n",
       "      <td>Asia</td>\n",
       "      <td>Afghanistan</td>\n",
       "      <td>27</td>\n",
       "      <td>1.0</td>\n",
       "      <td>0.0</td>\n",
       "      <td>0.0</td>\n",
       "      <td>0.0</td>\n",
       "      <td>2020-02-27</td>\n",
       "      <td>2020</td>\n",
       "      <td>02</td>\n",
       "      <td>08</td>\n",
       "      <td>Thursday</td>\n",
       "    </tr>\n",
       "    <tr>\n",
       "      <th>4</th>\n",
       "      <td>AFG</td>\n",
       "      <td>Asia</td>\n",
       "      <td>Afghanistan</td>\n",
       "      <td>28</td>\n",
       "      <td>1.0</td>\n",
       "      <td>0.0</td>\n",
       "      <td>0.0</td>\n",
       "      <td>0.0</td>\n",
       "      <td>2020-02-28</td>\n",
       "      <td>2020</td>\n",
       "      <td>02</td>\n",
       "      <td>08</td>\n",
       "      <td>Friday</td>\n",
       "    </tr>\n",
       "    <tr>\n",
       "      <th>5</th>\n",
       "      <td>AFG</td>\n",
       "      <td>Asia</td>\n",
       "      <td>Afghanistan</td>\n",
       "      <td>29</td>\n",
       "      <td>1.0</td>\n",
       "      <td>0.0</td>\n",
       "      <td>0.0</td>\n",
       "      <td>0.0</td>\n",
       "      <td>2020-02-29</td>\n",
       "      <td>2020</td>\n",
       "      <td>02</td>\n",
       "      <td>08</td>\n",
       "      <td>Saturday</td>\n",
       "    </tr>\n",
       "    <tr>\n",
       "      <th>6</th>\n",
       "      <td>AFG</td>\n",
       "      <td>Asia</td>\n",
       "      <td>Afghanistan</td>\n",
       "      <td>01</td>\n",
       "      <td>1.0</td>\n",
       "      <td>0.0</td>\n",
       "      <td>0.0</td>\n",
       "      <td>0.0</td>\n",
       "      <td>2020-03-01</td>\n",
       "      <td>2020</td>\n",
       "      <td>03</td>\n",
       "      <td>09</td>\n",
       "      <td>Sunday</td>\n",
       "    </tr>\n",
       "    <tr>\n",
       "      <th>7</th>\n",
       "      <td>AFG</td>\n",
       "      <td>Asia</td>\n",
       "      <td>Afghanistan</td>\n",
       "      <td>02</td>\n",
       "      <td>1.0</td>\n",
       "      <td>0.0</td>\n",
       "      <td>0.0</td>\n",
       "      <td>0.0</td>\n",
       "      <td>2020-03-02</td>\n",
       "      <td>2020</td>\n",
       "      <td>03</td>\n",
       "      <td>09</td>\n",
       "      <td>Monday</td>\n",
       "    </tr>\n",
       "    <tr>\n",
       "      <th>8</th>\n",
       "      <td>AFG</td>\n",
       "      <td>Asia</td>\n",
       "      <td>Afghanistan</td>\n",
       "      <td>03</td>\n",
       "      <td>2.0</td>\n",
       "      <td>1.0</td>\n",
       "      <td>0.0</td>\n",
       "      <td>0.0</td>\n",
       "      <td>2020-03-03</td>\n",
       "      <td>2020</td>\n",
       "      <td>03</td>\n",
       "      <td>09</td>\n",
       "      <td>Tuesday</td>\n",
       "    </tr>\n",
       "    <tr>\n",
       "      <th>9</th>\n",
       "      <td>AFG</td>\n",
       "      <td>Asia</td>\n",
       "      <td>Afghanistan</td>\n",
       "      <td>04</td>\n",
       "      <td>4.0</td>\n",
       "      <td>2.0</td>\n",
       "      <td>0.0</td>\n",
       "      <td>0.0</td>\n",
       "      <td>2020-03-04</td>\n",
       "      <td>2020</td>\n",
       "      <td>03</td>\n",
       "      <td>09</td>\n",
       "      <td>Wednesday</td>\n",
       "    </tr>\n",
       "  </tbody>\n",
       "</table>\n",
       "</div>"
      ],
      "text/plain": [
       "  iso_code continent     location cal_day  total_cases  new_cases  \\\n",
       "0      AFG      Asia  Afghanistan      24          1.0        1.0   \n",
       "1      AFG      Asia  Afghanistan      25          1.0        0.0   \n",
       "2      AFG      Asia  Afghanistan      26          1.0        0.0   \n",
       "3      AFG      Asia  Afghanistan      27          1.0        0.0   \n",
       "4      AFG      Asia  Afghanistan      28          1.0        0.0   \n",
       "5      AFG      Asia  Afghanistan      29          1.0        0.0   \n",
       "6      AFG      Asia  Afghanistan      01          1.0        0.0   \n",
       "7      AFG      Asia  Afghanistan      02          1.0        0.0   \n",
       "8      AFG      Asia  Afghanistan      03          2.0        1.0   \n",
       "9      AFG      Asia  Afghanistan      04          4.0        2.0   \n",
       "\n",
       "   total_deaths  new_deaths       date  year month weekofyear weekdayname  \n",
       "0           0.0         0.0 2020-02-24  2020    02         08      Monday  \n",
       "1           0.0         0.0 2020-02-25  2020    02         08     Tuesday  \n",
       "2           0.0         0.0 2020-02-26  2020    02         08   Wednesday  \n",
       "3           0.0         0.0 2020-02-27  2020    02         08    Thursday  \n",
       "4           0.0         0.0 2020-02-28  2020    02         08      Friday  \n",
       "5           0.0         0.0 2020-02-29  2020    02         08    Saturday  \n",
       "6           0.0         0.0 2020-03-01  2020    03         09      Sunday  \n",
       "7           0.0         0.0 2020-03-02  2020    03         09      Monday  \n",
       "8           0.0         0.0 2020-03-03  2020    03         09     Tuesday  \n",
       "9           0.0         0.0 2020-03-04  2020    03         09   Wednesday  "
      ]
     },
     "execution_count": 43,
     "metadata": {},
     "output_type": "execute_result"
    }
   ],
   "source": [
    "covid19_df.head(10)"
   ]
  },
  {
   "cell_type": "code",
   "execution_count": null,
   "metadata": {
    "editable": true
   },
   "outputs": [],
   "source": []
  },
  {
   "cell_type": "code",
   "execution_count": 44,
   "metadata": {
    "editable": true
   },
   "outputs": [
    {
     "name": "stderr",
     "output_type": "stream",
     "text": [
      "/opt/conda/lib/python3.6/site-packages/ipykernel_launcher.py:21: SettingWithCopyWarning: \n",
      "A value is trying to be set on a copy of a slice from a DataFrame.\n",
      "Try using .loc[row_indexer,col_indexer] = value instead\n",
      "\n",
      "See the caveats in the documentation: http://pandas.pydata.org/pandas-docs/stable/indexing.html#indexing-view-versus-copy\n"
     ]
    }
   ],
   "source": [
    "covid_m_d_2020=get_datashort_wkd(covid19_df,'new_cases','total cases',NoWKEND=True,year2020=True)"
   ]
  },
  {
   "cell_type": "code",
   "execution_count": 45,
   "metadata": {
    "editable": true
   },
   "outputs": [
    {
     "data": {
      "text/html": [
       "<div>\n",
       "<style scoped>\n",
       "    .dataframe tbody tr th:only-of-type {\n",
       "        vertical-align: middle;\n",
       "    }\n",
       "\n",
       "    .dataframe tbody tr th {\n",
       "        vertical-align: top;\n",
       "    }\n",
       "\n",
       "    .dataframe thead th {\n",
       "        text-align: right;\n",
       "    }\n",
       "</style>\n",
       "<table border=\"1\" class=\"dataframe\">\n",
       "  <thead>\n",
       "    <tr style=\"text-align: right;\">\n",
       "      <th></th>\n",
       "      <th>year</th>\n",
       "      <th>month</th>\n",
       "      <th>date</th>\n",
       "      <th>weekdayname</th>\n",
       "      <th>cal_day</th>\n",
       "      <th>total cases</th>\n",
       "      <th>month_date</th>\n",
       "    </tr>\n",
       "  </thead>\n",
       "  <tbody>\n",
       "    <tr>\n",
       "      <th>0</th>\n",
       "      <td>2020</td>\n",
       "      <td>01</td>\n",
       "      <td>2020-01-01</td>\n",
       "      <td>Wednesday</td>\n",
       "      <td>01</td>\n",
       "      <td>0.0</td>\n",
       "      <td>01-01</td>\n",
       "    </tr>\n",
       "    <tr>\n",
       "      <th>1</th>\n",
       "      <td>2020</td>\n",
       "      <td>01</td>\n",
       "      <td>2020-01-02</td>\n",
       "      <td>Thursday</td>\n",
       "      <td>02</td>\n",
       "      <td>0.0</td>\n",
       "      <td>01-02</td>\n",
       "    </tr>\n",
       "    <tr>\n",
       "      <th>2</th>\n",
       "      <td>2020</td>\n",
       "      <td>01</td>\n",
       "      <td>2020-01-03</td>\n",
       "      <td>Friday</td>\n",
       "      <td>03</td>\n",
       "      <td>0.0</td>\n",
       "      <td>01-03</td>\n",
       "    </tr>\n",
       "    <tr>\n",
       "      <th>5</th>\n",
       "      <td>2020</td>\n",
       "      <td>01</td>\n",
       "      <td>2020-01-06</td>\n",
       "      <td>Monday</td>\n",
       "      <td>06</td>\n",
       "      <td>0.0</td>\n",
       "      <td>01-06</td>\n",
       "    </tr>\n",
       "  </tbody>\n",
       "</table>\n",
       "</div>"
      ],
      "text/plain": [
       "   year month       date weekdayname cal_day  total cases month_date\n",
       "0  2020    01 2020-01-01   Wednesday      01          0.0      01-01\n",
       "1  2020    01 2020-01-02    Thursday      02          0.0      01-02\n",
       "2  2020    01 2020-01-03      Friday      03          0.0      01-03\n",
       "5  2020    01 2020-01-06      Monday      06          0.0      01-06"
      ]
     },
     "execution_count": 45,
     "metadata": {},
     "output_type": "execute_result"
    }
   ],
   "source": [
    "covid_m_d_2020.head(4)"
   ]
  },
  {
   "cell_type": "code",
   "execution_count": 46,
   "metadata": {
    "editable": true
   },
   "outputs": [],
   "source": [
    "\"\"\"\n",
    "   This function will group the data and append the column name\n",
    "\"\"\"\n",
    "def get_datashort22(df,value_2,value3):\n",
    "    value4 = df.groupby(['year','month','date','cal_day'])[value_2].sum().reset_index(name = value3)\n",
    "    value4=value4.sort_values('year', ascending=False)\n",
    "    value4['month_date'] = value4['month'].str.cat(value4['cal_day'],sep=\"-\")\n",
    "    return value4"
   ]
  },
  {
   "cell_type": "code",
   "execution_count": 47,
   "metadata": {
    "editable": true
   },
   "outputs": [],
   "source": [
    "snp_m_d=get_datashort22(s_and_p_index,'volume','total volume')"
   ]
  },
  {
   "cell_type": "code",
   "execution_count": 48,
   "metadata": {
    "editable": true
   },
   "outputs": [
    {
     "data": {
      "text/html": [
       "<div>\n",
       "<style scoped>\n",
       "    .dataframe tbody tr th:only-of-type {\n",
       "        vertical-align: middle;\n",
       "    }\n",
       "\n",
       "    .dataframe tbody tr th {\n",
       "        vertical-align: top;\n",
       "    }\n",
       "\n",
       "    .dataframe thead th {\n",
       "        text-align: right;\n",
       "    }\n",
       "</style>\n",
       "<table border=\"1\" class=\"dataframe\">\n",
       "  <thead>\n",
       "    <tr style=\"text-align: right;\">\n",
       "      <th></th>\n",
       "      <th>year</th>\n",
       "      <th>month</th>\n",
       "      <th>date</th>\n",
       "      <th>cal_day</th>\n",
       "      <th>total volume</th>\n",
       "      <th>month_date</th>\n",
       "    </tr>\n",
       "  </thead>\n",
       "  <tbody>\n",
       "    <tr>\n",
       "      <th>23385</th>\n",
       "      <td>2021</td>\n",
       "      <td>02</td>\n",
       "      <td>2021-02-05</td>\n",
       "      <td>05</td>\n",
       "      <td>4838580000</td>\n",
       "      <td>02-05</td>\n",
       "    </tr>\n",
       "    <tr>\n",
       "      <th>23373</th>\n",
       "      <td>2021</td>\n",
       "      <td>01</td>\n",
       "      <td>2021-01-20</td>\n",
       "      <td>20</td>\n",
       "      <td>4551790000</td>\n",
       "      <td>01-20</td>\n",
       "    </tr>\n",
       "    <tr>\n",
       "      <th>23362</th>\n",
       "      <td>2021</td>\n",
       "      <td>01</td>\n",
       "      <td>2021-01-04</td>\n",
       "      <td>04</td>\n",
       "      <td>5006680000</td>\n",
       "      <td>01-04</td>\n",
       "    </tr>\n",
       "    <tr>\n",
       "      <th>23363</th>\n",
       "      <td>2021</td>\n",
       "      <td>01</td>\n",
       "      <td>2021-01-05</td>\n",
       "      <td>05</td>\n",
       "      <td>4582620000</td>\n",
       "      <td>01-05</td>\n",
       "    </tr>\n",
       "  </tbody>\n",
       "</table>\n",
       "</div>"
      ],
      "text/plain": [
       "       year month       date cal_day  total volume month_date\n",
       "23385  2021    02 2021-02-05      05    4838580000      02-05\n",
       "23373  2021    01 2021-01-20      20    4551790000      01-20\n",
       "23362  2021    01 2021-01-04      04    5006680000      01-04\n",
       "23363  2021    01 2021-01-05      05    4582620000      01-05"
      ]
     },
     "execution_count": 48,
     "metadata": {},
     "output_type": "execute_result"
    }
   ],
   "source": [
    "snp_m_d.head(4)"
   ]
  },
  {
   "cell_type": "code",
   "execution_count": 49,
   "metadata": {
    "editable": true
   },
   "outputs": [],
   "source": [
    "covid_m_d=get_datashort22(covid19_df,'new_cases','total cases')"
   ]
  },
  {
   "cell_type": "code",
   "execution_count": 50,
   "metadata": {
    "editable": true
   },
   "outputs": [
    {
     "data": {
      "text/html": [
       "<div>\n",
       "<style scoped>\n",
       "    .dataframe tbody tr th:only-of-type {\n",
       "        vertical-align: middle;\n",
       "    }\n",
       "\n",
       "    .dataframe tbody tr th {\n",
       "        vertical-align: top;\n",
       "    }\n",
       "\n",
       "    .dataframe thead th {\n",
       "        text-align: right;\n",
       "    }\n",
       "</style>\n",
       "<table border=\"1\" class=\"dataframe\">\n",
       "  <thead>\n",
       "    <tr style=\"text-align: right;\">\n",
       "      <th></th>\n",
       "      <th>year</th>\n",
       "      <th>month</th>\n",
       "      <th>date</th>\n",
       "      <th>cal_day</th>\n",
       "      <th>total cases</th>\n",
       "      <th>month_date</th>\n",
       "    </tr>\n",
       "  </thead>\n",
       "  <tbody>\n",
       "    <tr>\n",
       "      <th>401</th>\n",
       "      <td>2021</td>\n",
       "      <td>02</td>\n",
       "      <td>2021-02-05</td>\n",
       "      <td>05</td>\n",
       "      <td>1750536.0</td>\n",
       "      <td>02-05</td>\n",
       "    </tr>\n",
       "    <tr>\n",
       "      <th>383</th>\n",
       "      <td>2021</td>\n",
       "      <td>01</td>\n",
       "      <td>2021-01-18</td>\n",
       "      <td>18</td>\n",
       "      <td>1678968.0</td>\n",
       "      <td>01-18</td>\n",
       "    </tr>\n",
       "    <tr>\n",
       "      <th>381</th>\n",
       "      <td>2021</td>\n",
       "      <td>01</td>\n",
       "      <td>2021-01-16</td>\n",
       "      <td>16</td>\n",
       "      <td>1937667.0</td>\n",
       "      <td>01-16</td>\n",
       "    </tr>\n",
       "    <tr>\n",
       "      <th>380</th>\n",
       "      <td>2021</td>\n",
       "      <td>01</td>\n",
       "      <td>2021-01-15</td>\n",
       "      <td>15</td>\n",
       "      <td>2444013.0</td>\n",
       "      <td>01-15</td>\n",
       "    </tr>\n",
       "    <tr>\n",
       "      <th>379</th>\n",
       "      <td>2021</td>\n",
       "      <td>01</td>\n",
       "      <td>2021-01-14</td>\n",
       "      <td>14</td>\n",
       "      <td>2430422.0</td>\n",
       "      <td>01-14</td>\n",
       "    </tr>\n",
       "  </tbody>\n",
       "</table>\n",
       "</div>"
      ],
      "text/plain": [
       "     year month       date cal_day  total cases month_date\n",
       "401  2021    02 2021-02-05      05    1750536.0      02-05\n",
       "383  2021    01 2021-01-18      18    1678968.0      01-18\n",
       "381  2021    01 2021-01-16      16    1937667.0      01-16\n",
       "380  2021    01 2021-01-15      15    2444013.0      01-15\n",
       "379  2021    01 2021-01-14      14    2430422.0      01-14"
      ]
     },
     "execution_count": 50,
     "metadata": {},
     "output_type": "execute_result"
    }
   ],
   "source": [
    "covid_m_d.head()"
   ]
  },
  {
   "cell_type": "code",
   "execution_count": 51,
   "metadata": {
    "editable": true
   },
   "outputs": [
    {
     "data": {
      "text/html": [
       "<div>\n",
       "<style scoped>\n",
       "    .dataframe tbody tr th:only-of-type {\n",
       "        vertical-align: middle;\n",
       "    }\n",
       "\n",
       "    .dataframe tbody tr th {\n",
       "        vertical-align: top;\n",
       "    }\n",
       "\n",
       "    .dataframe thead th {\n",
       "        text-align: right;\n",
       "    }\n",
       "</style>\n",
       "<table border=\"1\" class=\"dataframe\">\n",
       "  <thead>\n",
       "    <tr style=\"text-align: right;\">\n",
       "      <th></th>\n",
       "      <th>year</th>\n",
       "      <th>month</th>\n",
       "      <th>date</th>\n",
       "      <th>cal_day</th>\n",
       "      <th>total volume</th>\n",
       "      <th>month_date</th>\n",
       "    </tr>\n",
       "  </thead>\n",
       "  <tbody>\n",
       "    <tr>\n",
       "      <th>23385</th>\n",
       "      <td>2021</td>\n",
       "      <td>02</td>\n",
       "      <td>2021-02-05</td>\n",
       "      <td>05</td>\n",
       "      <td>4838580000</td>\n",
       "      <td>02-05</td>\n",
       "    </tr>\n",
       "    <tr>\n",
       "      <th>23373</th>\n",
       "      <td>2021</td>\n",
       "      <td>01</td>\n",
       "      <td>2021-01-20</td>\n",
       "      <td>20</td>\n",
       "      <td>4551790000</td>\n",
       "      <td>01-20</td>\n",
       "    </tr>\n",
       "    <tr>\n",
       "      <th>23362</th>\n",
       "      <td>2021</td>\n",
       "      <td>01</td>\n",
       "      <td>2021-01-04</td>\n",
       "      <td>04</td>\n",
       "      <td>5006680000</td>\n",
       "      <td>01-04</td>\n",
       "    </tr>\n",
       "    <tr>\n",
       "      <th>23363</th>\n",
       "      <td>2021</td>\n",
       "      <td>01</td>\n",
       "      <td>2021-01-05</td>\n",
       "      <td>05</td>\n",
       "      <td>4582620000</td>\n",
       "      <td>01-05</td>\n",
       "    </tr>\n",
       "  </tbody>\n",
       "</table>\n",
       "</div>"
      ],
      "text/plain": [
       "       year month       date cal_day  total volume month_date\n",
       "23385  2021    02 2021-02-05      05    4838580000      02-05\n",
       "23373  2021    01 2021-01-20      20    4551790000      01-20\n",
       "23362  2021    01 2021-01-04      04    5006680000      01-04\n",
       "23363  2021    01 2021-01-05      05    4582620000      01-05"
      ]
     },
     "execution_count": 51,
     "metadata": {},
     "output_type": "execute_result"
    }
   ],
   "source": [
    "snp_m_d.head(4)"
   ]
  },
  {
   "cell_type": "code",
   "execution_count": 52,
   "metadata": {
    "editable": true
   },
   "outputs": [],
   "source": [
    "snp_m_d_2020 = snp_m_d.query('year == \"2020\"')\n"
   ]
  },
  {
   "cell_type": "code",
   "execution_count": 53,
   "metadata": {
    "editable": true
   },
   "outputs": [
    {
     "data": {
      "text/html": [
       "<div>\n",
       "<style scoped>\n",
       "    .dataframe tbody tr th:only-of-type {\n",
       "        vertical-align: middle;\n",
       "    }\n",
       "\n",
       "    .dataframe tbody tr th {\n",
       "        vertical-align: top;\n",
       "    }\n",
       "\n",
       "    .dataframe thead th {\n",
       "        text-align: right;\n",
       "    }\n",
       "</style>\n",
       "<table border=\"1\" class=\"dataframe\">\n",
       "  <thead>\n",
       "    <tr style=\"text-align: right;\">\n",
       "      <th></th>\n",
       "      <th>year</th>\n",
       "      <th>month</th>\n",
       "      <th>date</th>\n",
       "      <th>cal_day</th>\n",
       "      <th>total volume</th>\n",
       "      <th>month_date</th>\n",
       "    </tr>\n",
       "  </thead>\n",
       "  <tbody>\n",
       "    <tr>\n",
       "      <th>23190</th>\n",
       "      <td>2020</td>\n",
       "      <td>04</td>\n",
       "      <td>2020-04-29</td>\n",
       "      <td>29</td>\n",
       "      <td>6620140000</td>\n",
       "      <td>04-29</td>\n",
       "    </tr>\n",
       "    <tr>\n",
       "      <th>23195</th>\n",
       "      <td>2020</td>\n",
       "      <td>05</td>\n",
       "      <td>2020-05-06</td>\n",
       "      <td>06</td>\n",
       "      <td>4861920000</td>\n",
       "      <td>05-06</td>\n",
       "    </tr>\n",
       "    <tr>\n",
       "      <th>23191</th>\n",
       "      <td>2020</td>\n",
       "      <td>04</td>\n",
       "      <td>2020-04-30</td>\n",
       "      <td>30</td>\n",
       "      <td>6523120000</td>\n",
       "      <td>04-30</td>\n",
       "    </tr>\n",
       "    <tr>\n",
       "      <th>23192</th>\n",
       "      <td>2020</td>\n",
       "      <td>05</td>\n",
       "      <td>2020-05-01</td>\n",
       "      <td>01</td>\n",
       "      <td>4753160000</td>\n",
       "      <td>05-01</td>\n",
       "    </tr>\n",
       "    <tr>\n",
       "      <th>23193</th>\n",
       "      <td>2020</td>\n",
       "      <td>05</td>\n",
       "      <td>2020-05-04</td>\n",
       "      <td>04</td>\n",
       "      <td>4723140000</td>\n",
       "      <td>05-04</td>\n",
       "    </tr>\n",
       "  </tbody>\n",
       "</table>\n",
       "</div>"
      ],
      "text/plain": [
       "       year month       date cal_day  total volume month_date\n",
       "23190  2020    04 2020-04-29      29    6620140000      04-29\n",
       "23195  2020    05 2020-05-06      06    4861920000      05-06\n",
       "23191  2020    04 2020-04-30      30    6523120000      04-30\n",
       "23192  2020    05 2020-05-01      01    4753160000      05-01\n",
       "23193  2020    05 2020-05-04      04    4723140000      05-04"
      ]
     },
     "execution_count": 53,
     "metadata": {},
     "output_type": "execute_result"
    }
   ],
   "source": [
    "snp_m_d_2020.head()"
   ]
  },
  {
   "cell_type": "code",
   "execution_count": 54,
   "metadata": {
    "editable": true
   },
   "outputs": [
    {
     "data": {
      "text/html": [
       "<div>\n",
       "<style scoped>\n",
       "    .dataframe tbody tr th:only-of-type {\n",
       "        vertical-align: middle;\n",
       "    }\n",
       "\n",
       "    .dataframe tbody tr th {\n",
       "        vertical-align: top;\n",
       "    }\n",
       "\n",
       "    .dataframe thead th {\n",
       "        text-align: right;\n",
       "    }\n",
       "</style>\n",
       "<table border=\"1\" class=\"dataframe\">\n",
       "  <thead>\n",
       "    <tr style=\"text-align: right;\">\n",
       "      <th></th>\n",
       "      <th>year</th>\n",
       "      <th>month</th>\n",
       "      <th>date</th>\n",
       "      <th>cal_day</th>\n",
       "      <th>total volume</th>\n",
       "      <th>month_date</th>\n",
       "    </tr>\n",
       "  </thead>\n",
       "  <tbody>\n",
       "    <tr>\n",
       "      <th>23385</th>\n",
       "      <td>2021</td>\n",
       "      <td>02</td>\n",
       "      <td>2021-02-05</td>\n",
       "      <td>05</td>\n",
       "      <td>4838580000</td>\n",
       "      <td>02-05</td>\n",
       "    </tr>\n",
       "    <tr>\n",
       "      <th>23373</th>\n",
       "      <td>2021</td>\n",
       "      <td>01</td>\n",
       "      <td>2021-01-20</td>\n",
       "      <td>20</td>\n",
       "      <td>4551790000</td>\n",
       "      <td>01-20</td>\n",
       "    </tr>\n",
       "    <tr>\n",
       "      <th>23362</th>\n",
       "      <td>2021</td>\n",
       "      <td>01</td>\n",
       "      <td>2021-01-04</td>\n",
       "      <td>04</td>\n",
       "      <td>5006680000</td>\n",
       "      <td>01-04</td>\n",
       "    </tr>\n",
       "    <tr>\n",
       "      <th>23363</th>\n",
       "      <td>2021</td>\n",
       "      <td>01</td>\n",
       "      <td>2021-01-05</td>\n",
       "      <td>05</td>\n",
       "      <td>4582620000</td>\n",
       "      <td>01-05</td>\n",
       "    </tr>\n",
       "    <tr>\n",
       "      <th>23364</th>\n",
       "      <td>2021</td>\n",
       "      <td>01</td>\n",
       "      <td>2021-01-06</td>\n",
       "      <td>06</td>\n",
       "      <td>6049970000</td>\n",
       "      <td>01-06</td>\n",
       "    </tr>\n",
       "  </tbody>\n",
       "</table>\n",
       "</div>"
      ],
      "text/plain": [
       "       year month       date cal_day  total volume month_date\n",
       "23385  2021    02 2021-02-05      05    4838580000      02-05\n",
       "23373  2021    01 2021-01-20      20    4551790000      01-20\n",
       "23362  2021    01 2021-01-04      04    5006680000      01-04\n",
       "23363  2021    01 2021-01-05      05    4582620000      01-05\n",
       "23364  2021    01 2021-01-06      06    6049970000      01-06"
      ]
     },
     "execution_count": 54,
     "metadata": {},
     "output_type": "execute_result"
    }
   ],
   "source": [
    "snp_m_d.head()"
   ]
  },
  {
   "cell_type": "code",
   "execution_count": 55,
   "metadata": {
    "editable": true
   },
   "outputs": [
    {
     "data": {
      "text/plain": [
       "(402, 6)"
      ]
     },
     "execution_count": 55,
     "metadata": {},
     "output_type": "execute_result"
    }
   ],
   "source": [
    "covid_m_d.shape"
   ]
  },
  {
   "cell_type": "code",
   "execution_count": 56,
   "metadata": {
    "editable": true
   },
   "outputs": [],
   "source": [
    "covid_m_y_label = covid_m_y['year_month']\n",
    "covid_m_y_values = covid_m_y['total cases'].values\n",
    "\n",
    "snp_m_y_label = snp_m_y['year_month']\n",
    "snp_m_y_values = snp_m_y['total volume'].values\n",
    "\n",
    "\n",
    "\n"
   ]
  },
  {
   "cell_type": "code",
   "execution_count": 57,
   "metadata": {
    "editable": true
   },
   "outputs": [
    {
     "data": {
      "text/plain": [
       "<AxesSubplot:label='2117ce46-8173-415c-ab8b-7074140e987c', xlabel='year_month', ylabel='total volume'>"
      ]
     },
     "execution_count": 57,
     "metadata": {},
     "output_type": "execute_result"
    },
    {
     "data": {
      "image/png": "[encoded data removed]",
      "text/plain": [
       "<Figure size 1200x600 with 2 Axes>"
      ]
     },
     "metadata": {},
     "output_type": "display_data"
    }
   ],
   "source": [
    "import matplotlib\n",
    "import matplotlib.pyplot as plt\n",
    "import seaborn as sns\n",
    "\n",
    "matplotlib.rc_file_defaults()\n",
    "ax1 = sns.set_style(style=None, rc=None )\n",
    "#ax1.title('Stock Volume Each Month during COVID19', size=30)\n",
    "\n",
    "fig, ax1 = plt.subplots(figsize=(12,6))\n",
    "\n",
    "sns.lineplot(data = covid_m_y['total cases'], marker='o', sort = False, ax=ax1).set_title(\"COVID-19 Monthly cases counts and Stock Volume\")\n",
    "ax2 = ax1.twinx()\n",
    "\n",
    "sns.barplot(data = snp_m_y, x=snp_m_y_label, y='total volume', alpha=0.5, ax=ax2)"
   ]
  },
  {
   "cell_type": "code",
   "execution_count": 58,
   "metadata": {
    "editable": true
   },
   "outputs": [],
   "source": [
    "covid_m_d_2020_label = covid_m_d_2020['month_date']\n",
    "covid_m_d_2020_values = covid_m_d_2020['total cases'].values\n",
    "\n",
    "snp_m_d_2020_label = snp_m_d_2020['month_date']\n",
    "snp_m_d_2020_values = snp_m_d_2020['total volume'].values\n"
   ]
  },
  {
   "cell_type": "code",
   "execution_count": 59,
   "metadata": {
    "editable": true
   },
   "outputs": [
    {
     "data": {
      "text/plain": [
       "<AxesSubplot:label='2731df06-eab1-47a3-b8bc-d3f791668f35', xlabel='month_date', ylabel='total volume'>"
      ]
     },
     "execution_count": 59,
     "metadata": {},
     "output_type": "execute_result"
    },
    {
     "data": {
      "image/png": "[encoded data removed]",
      "text/plain": [
       "<Figure size 1200x600 with 2 Axes>"
      ]
     },
     "metadata": {},
     "output_type": "display_data"
    }
   ],
   "source": [
    "import matplotlib\n",
    "import matplotlib.pyplot as plt\n",
    "import seaborn as sns\n",
    "\n",
    "matplotlib.rc_file_defaults()\n",
    "ax1 = sns.set_style(style=None, rc=None )\n",
    "\n",
    "fig, ax1 = plt.subplots(figsize=(12,6))\n",
    "\n",
    "sns.lineplot(data = covid_m_d_2020['total cases'], marker='o', sort = False, ax=ax1).set_title(\"COVID-19 Daily Cases Counts and Daily Stock Volume\")\n",
    "ax2 = ax1.twinx()\n",
    "\n",
    "sns.barplot(data = snp_m_d_2020, x=snp_m_d_2020_label, y='total volume', alpha=0.5, ax=ax2)"
   ]
  },
  {
   "cell_type": "markdown",
   "metadata": {
    "editable": true
   },
   "source": []
  },
  {
   "cell_type": "markdown",
   "metadata": {
    "editable": true
   },
   "source": [
    "### Step 3: Define the Data Model\n",
    "#### Conceptual Data Model\n",
    "Star data model is used here is the flow of data modelling\n",
    "- Data used is in CSV format\n",
    "- CSV is moved to S3.\n",
    "- Stagging, Facts and Dimension Tables are created\n",
    "- Data first moved from S3 to staging table.\n",
    "- Then data is moved from Staging to Facts and Dimension tables.\n",
    "\n",
    "\n",
    "#### 3.2 Mapping Out Data Pipelines\n",
    "Data relating to Stocks, S&P500 company list, COVID-19, S&P500 Index are placed in Dimentions and Facts tables.\n",
    "\n",
    "#### Data Model - COVID-19 Impact of StockMarket\n",
    "![Data Model - COVID-19 Impact of StockMarket](COVID-19-Impact-on-stockMarket-staging-4.png)\n",
    "#### Data Model\n",
    "![Staging Tables - COVID-19 Impact of StockMarket](staging_table_impact_of_covid-19-on-stockMarket.png)\n",
    "\n"
   ]
  },
  {
   "cell_type": "markdown",
   "metadata": {
    "editable": true
   },
   "source": [
    "### Step 4: Run Pipelines to Model the Data \n",
    "The data pipeline will be done using S3, Python and data stored in Redshift."
   ]
  },
  {
   "cell_type": "markdown",
   "metadata": {
    "editable": true
   },
   "source": [
    "## Project files\n",
    "1. dwh.cfg: contains AWS credentials for Redshift, link for S3 and other AWS info\n",
    "2. create_tables.p: file for creating, deleting, copying tables\n",
    "3. sql_queries.py: contain SQL statement for creating, deleting and ingesting tables\n",
    "4. etl.py: this file run the pipeline which performs the complete job.\n",
    "\n",
    "\n",
    "## How to run this project\n",
    "\n",
    "1. First run this notebook, it will provide following CSV files\n",
    "    1. covid19_df_clean.csv\n",
    "    2. s_and_p_index_clean.csv\n",
    "    3. csv_companylistsnp_500_final.csv\n",
    "    4. snp_allcompanies_clean.csv\n",
    "2. Upload above CSV files in S3 bucket\n",
    "3. Configure the dwh.cfg file with your own credentials\n",
    "4. run create_tables.py file for creating tables.\n",
    "5. run etl.py file for executing the data pipeline\n"
   ]
  },
  {
   "cell_type": "markdown",
   "metadata": {
    "editable": true
   },
   "source": [
    "#### 4.2 Data Quality Checks\n",
    "Data quality checks are done by analysing the data, creating the graphs for storytelling, these graphs are available in above sections\n",
    "\n",
    " "
   ]
  },
  {
   "cell_type": "markdown",
   "metadata": {
    "editable": true
   },
   "source": [
    "#### 4.3 Data dictionary \n",
    "Data dictionary is provided saperately as xls file, please see the file in left side."
   ]
  },
  {
   "cell_type": "markdown",
   "metadata": {
    "editable": true
   },
   "source": [
    "#### Step 5: Complete Project Write Up\n",
    "* Clearly state the rationale for the choice of tools and technologies for the project.\n",
    "    * Redshift and S3 is good choice and redshift provde and S3 provide good performance and configuration is simple.\n",
    "\n",
    "* Propose how often the data should be updated and why.\n",
    "    * Data should be run weekly to get the analysis of the market based on COVID cases.\n",
    "    \n",
    "* Write a description of how you would approach the problem differently under the following scenarios:\n",
    " * The data was increased by 100x.\n",
    "         * If data increase by 100x there is posibilty to juse horiziental scaling in AWS.\n",
    " * The data populates a dashboard that must be updated on a daily basis by 7am every day.\n",
    "         * Tableau dashoboard can be created on top of data model. \n",
    " * The database needed to be accessed by 100+ people.\n",
    "         * Tableau dashbord cane shared among people, if increase in user count, the performance of dahboad will not be compromised"
   ]
  },
  {
   "cell_type": "code",
   "execution_count": null,
   "metadata": {
    "editable": true
   },
   "outputs": [],
   "source": []
  },
  {
   "cell_type": "code",
   "execution_count": null,
   "metadata": {
    "editable": true
   },
   "outputs": [],
   "source": []
  },
  {
   "cell_type": "code",
   "execution_count": null,
   "metadata": {
    "editable": true
   },
   "outputs": [],
   "source": []
  },
  {
   "cell_type": "code",
   "execution_count": null,
   "metadata": {
    "editable": true
   },
   "outputs": [],
   "source": []
  },
  {
   "cell_type": "code",
   "execution_count": null,
   "metadata": {
    "editable": true
   },
   "outputs": [],
   "source": []
  },
  {
   "cell_type": "code",
   "execution_count": null,
   "metadata": {
    "editable": true
   },
   "outputs": [],
   "source": []
  },
  {
   "cell_type": "code",
   "execution_count": null,
   "metadata": {
    "editable": true
   },
   "outputs": [],
   "source": []
  }
 ],
 "metadata": {
  "kernelspec": {
   "display_name": "Python 3",
   "language": "python",
   "name": "python3"
  },
  "language_info": {
   "codemirror_mode": {
    "name": "ipython",
    "version": 3
   },
   "file_extension": ".py",
   "mimetype": "text/x-python",
   "name": "python",
   "nbconvert_exporter": "python",
   "pygments_lexer": "ipython3",
   "version": "3.6.3"
  }
 },
 "nbformat": 4,
 "nbformat_minor": 4
}
